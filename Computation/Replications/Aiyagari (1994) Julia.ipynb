{
 "cells": [
  {
   "cell_type": "markdown",
   "metadata": {},
   "source": [
    "#### ------------------------------------------------------------\n",
    "# Replication of Aiyagari (1994, QJE)\n",
    "### Youngdoo Choi (lenatics@snu.ac.kr), January 2021\n",
    "#### ------------------------------------------------------------"
   ]
  },
  {
   "cell_type": "markdown",
   "metadata": {},
   "source": [
    "## 1. Solve Household's Problem"
   ]
  },
  {
   "cell_type": "code",
   "execution_count": 1,
   "metadata": {},
   "outputs": [],
   "source": [
    "using Parameters, Interpolations, Optim, Plots;\n",
    "using QuantEcon, StatsBase;\n",
    "# using Statistics, Distributions;\n",
    "# using NLsolve, Roots, Random;"
   ]
  },
  {
   "cell_type": "markdown",
   "metadata": {},
   "source": [
    "### Parameters"
   ]
  },
  {
   "cell_type": "code",
   "execution_count": 2,
   "metadata": {},
   "outputs": [],
   "source": [
    "const beta = 0.96;\n",
    "const amin = 0;\n",
    "const alpha = 0.36;\n",
    "const delta = 0.08;"
   ]
  },
  {
   "cell_type": "code",
   "execution_count": 3,
   "metadata": {},
   "outputs": [],
   "source": [
    "# Household parameters\n",
    "HH = @with_kw (\n",
    "    # preference\n",
    "    mu = 3,\n",
    "    u = c -> mu == 1 ? log(c) : (c^(1-mu)-1)/(1-mu),\n",
    "    # asset\n",
    "    amax = 100, agridsize = 201,\n",
    "    agrid = range(amin, amax, length=agridsize),\n",
    "    # productivity\n",
    "    lgridsize = 7, \n",
    "    sigma = 0.2, rho = 0.9, \n",
    "    MC = tauchen(lgridsize, rho, sigma*sqrt(1-rho^2), 0, 3), Pi = MC.p,\n",
    "    theta = stationary_distributions(MC)[1],\n",
    "    lgrid_temp = exp.(range(-3*sigma, 3*sigma, length=lgridsize)),\n",
    "    lgrid = lgrid_temp / sum(lgrid_temp .* theta),\n",
    "    l_idx = l -> findfirst(x -> x == l, lgrid),\n",
    ");\n",
    "\n",
    "# Equlibrium\n",
    "Eq = @with_kw (\n",
    "    r = 0.04,\n",
    "    MPK = r + delta,\n",
    "    w = (1-alpha)*MPK^(alpha/(alpha-1))/alpha^(alpha/(alpha-1)),\n",
    ");"
   ]
  },
  {
   "cell_type": "markdown",
   "metadata": {},
   "source": [
    "### Value function iteration"
   ]
  },
  {
   "cell_type": "code",
   "execution_count": 4,
   "metadata": {},
   "outputs": [],
   "source": [
    "function TV(V_old, HH, Eq)\n",
    "    @unpack u, agrid, lgridsize, lgrid, l_idx, Pi = HH\n",
    "    @unpack r, w = Eq\n",
    "    \n",
    "    # interpolate value function\n",
    "    V_tilde = [LinearInterpolation(agrid, V) for V in V_old]\n",
    "    # create objective functions\n",
    "    Obj = [(a′ -> u(w*l + (1+r)a - a′) + beta*sum([V_til(a′) for V_til in V_tilde], \n",
    "                weights(Pi[l_idx(l), :])) for a in agrid) for l in lgrid]\n",
    "    # optimize\n",
    "    Res = [maximize.(obj, agrid[1], min.(max.(agrid[1], w*l.+(1 + r).*agrid), agrid[end])) \n",
    "        for (l, obj) in zip(lgrid, Obj)]\n",
    "    # maximized values\n",
    "    V_new = [Optim.maximum.(res) for res in Res] \n",
    "    # optimized policy\n",
    "    Pol = [Optim.maximizer.(res) for res in Res]\n",
    "    \n",
    "    return V_new, Pol\n",
    "end;"
   ]
  },
  {
   "cell_type": "code",
   "execution_count": 5,
   "metadata": {},
   "outputs": [],
   "source": [
    "function VFI(V_0, HH, Eq, tol, max_iter; TV=TV)\n",
    "    @unpack lgridsize = HH\n",
    "    V_old = V_0\n",
    "    for iter in 1:max_iter\n",
    "        V_new, Pol = TV(V_old, HH, Eq)\n",
    "        if maximum([maximum(abs.(V_new[i]-V_old[i])) for i in 1:lgridsize]) < tol\n",
    "            return V_new, Pol\n",
    "        else\n",
    "            V_old = V_new\n",
    "        end\n",
    "    end\n",
    "end;"
   ]
  },
  {
   "cell_type": "code",
   "execution_count": 7,
   "metadata": {},
   "outputs": [
    {
     "name": "stdout",
     "output_type": "stream",
     "text": [
      "  4.427473 seconds (24.15 M allocations: 2.432 GiB, 9.36% gc time)\n"
     ]
    }
   ],
   "source": [
    "@unpack agridsize, lgridsize = HH();\n",
    "V_0 = [zeros(agridsize) for i in 1:lgridsize]\n",
    "tol = 1e-6;\n",
    "max_iter = 10000;\n",
    "\n",
    "@time V_new, Pol = VFI(V_0, HH(), Eq(), tol, max_iter);"
   ]
  },
  {
   "cell_type": "markdown",
   "metadata": {},
   "source": [
    "## 2. Compute Invariant Distribution"
   ]
  },
  {
   "cell_type": "markdown",
   "metadata": {},
   "source": [
    "### Iteration"
   ]
  },
  {
   "cell_type": "code",
   "execution_count": 7,
   "metadata": {},
   "outputs": [],
   "source": [
    "function Tμ(μ, Pol, HH)\n",
    "    @unpack agridsize, agrid, lgridsize, Pi = HH\n",
    "    μ′ = zeros(agridsize, lgridsize)\n",
    "    \n",
    "    for (y_idx, P) in enumerate(Pol)\n",
    "        for a_idx in 1:agridsize\n",
    "            ia′h = findfirst(a′-> a′ > P[a_idx], agrid)\n",
    "            if ia′h == nothing\n",
    "                μ′[end, :] .+= μ[a_idx, y_idx] .* Pi[y_idx, :]\n",
    "            else\n",
    "                ia′l = ia′h - 1\n",
    "                μ′[ia′l, :] .+= μ[a_idx, y_idx] .* Pi[y_idx, :] * (agrid[ia′h]-P[a_idx]) / (agrid[ia′h]-agrid[ia′l])\n",
    "                μ′[ia′h, :] .+= μ[a_idx, y_idx] .* Pi[y_idx, :] * (P[a_idx]-agrid[ia′l]) / (agrid[ia′h]-agrid[ia′l])\n",
    "            end\n",
    "        end\n",
    "    end\n",
    "    \n",
    "    return μ′\n",
    "end;"
   ]
  },
  {
   "cell_type": "code",
   "execution_count": 8,
   "metadata": {},
   "outputs": [],
   "source": [
    "function stat_dist(μ_0, Pol, HH, Eq, tol, max_iter; Tμ=Tμ)\n",
    "    @unpack agrid, lgrid = HH\n",
    "    @unpack r = Eq\n",
    "    μ_old = μ_0\n",
    "    for iter in 1:max_iter\n",
    "        μ_new = Tμ(μ_old, Pol, HH)\n",
    "        if maximum(abs.(μ_new.-μ_old)) < tol\n",
    "            Ks = sum(μ_new, dims=2)' * agrid\n",
    "            L = sum(μ_new, dims=1) * lgrid\n",
    "            Kd = ((r+delta)/(alpha*L.^(1-alpha)))^(1/(alpha-1))\n",
    "            return μ_new, Ks, Kd\n",
    "        else\n",
    "            μ_old = μ_new\n",
    "        end\n",
    "    end\n",
    "end;"
   ]
  },
  {
   "cell_type": "code",
   "execution_count": 9,
   "metadata": {},
   "outputs": [
    {
     "name": "stdout",
     "output_type": "stream",
     "text": [
      "  4.348094 seconds (28.86 M allocations: 3.099 GiB, 9.36% gc time)\n"
     ]
    }
   ],
   "source": [
    "@unpack agridsize, lgridsize = HH();\n",
    "μ_0 = zeros(agridsize, lgridsize);\n",
    "μ_0[1, 1] = 1;\n",
    "tol = 1e-6;\n",
    "max_iter = 10000;\n",
    "\n",
    "@time mu, Ks, Kd = stat_dist(μ_0, Pol, HH(), Eq(), tol, max_iter);"
   ]
  },
  {
   "cell_type": "markdown",
   "metadata": {},
   "source": [
    "## 3. Compute Equilibrium"
   ]
  },
  {
   "cell_type": "markdown",
   "metadata": {},
   "source": [
    "### Compute Eq'm interest rate"
   ]
  },
  {
   "cell_type": "code",
   "execution_count": 10,
   "metadata": {},
   "outputs": [],
   "source": [
    "function Eqm_r(HH, max_bisec; TV=TV, VFI=VFI, Tμ=Tμ, stat_dist=stat_dist)\n",
    "    # setup\n",
    "    @unpack agridsize, lgridsize = HH\n",
    "    V_0 = [zeros(agridsize) for i in 1:lgridsize]\n",
    "    μ_0 = zeros(agridsize, lgridsize); μ_0[1, 1] = 1\n",
    "    tol = 1e-6; max_iter = 10000\n",
    "    \n",
    "    # initial points\n",
    "    r1 = -delta/2; r2 = (1-beta)/beta - 1e-6\n",
    "#    r_left = Eq(r = r1); r_right = Eq(r = r2)\n",
    "#    # left\n",
    "#    ~, Pol = VFI(V_0, HH, r_left, tol, max_iter; TV=TV)\n",
    "#    ~, Ks_left, Kd_left = stat_dist(μ_0, Pol, HH, r_left, tol, max_iter; Tμ=Tμ)\n",
    "#    # right\n",
    "#    ~, Pol = VFI(V_0, HH, r_right, tol, max_iter; TV=TV)\n",
    "#    ~, Ks_right, Kd_right = stat_dist(μ_0, Pol, HH, r_right, tol, max_iter; Tμ=Tμ)\n",
    "    \n",
    "    # iteration\n",
    "    for iter in 1:max_bisec\n",
    "        r3 = (r1 + r2)/2\n",
    "        ~, Pol = VFI(V_0, HH, Eq(r = r3), tol, max_iter; TV=TV)\n",
    "        ~, Ks_new, Kd_new = stat_dist(μ_0, Pol, HH, Eq(r = r3), tol, max_iter; Tμ=Tμ)\n",
    "        if abs.((Ks_new - Kd_new)[1]) < 0.01\n",
    "            return r3, Ks_new, Kd_new, iter\n",
    "        elseif (Ks_new - Kd_new)[1] > 0\n",
    "            r2 = r3\n",
    "        else\n",
    "            r1 = r3\n",
    "        end\n",
    "    end\n",
    "end;"
   ]
  },
  {
   "cell_type": "code",
   "execution_count": 11,
   "metadata": {},
   "outputs": [
    {
     "name": "stdout",
     "output_type": "stream",
     "text": [
      " 42.617460 seconds (307.15 M allocations: 33.267 GiB, 9.09% gc time)\n"
     ]
    }
   ],
   "source": [
    "max_bisec = 100\n",
    "@time r_star, Ks_star, Kd_star, iter = Eqm_r(HH(), max_bisec; TV=TV, VFI=VFI, Tμ=Tμ, stat_dist=stat_dist);"
   ]
  },
  {
   "cell_type": "code",
   "execution_count": 12,
   "metadata": {},
   "outputs": [
    {
     "data": {
      "text/plain": [
       "1×4 Array{Float64,2}:\n",
       " 3.32917  6.09254  6.08889  10.0"
      ]
     },
     "execution_count": 12,
     "metadata": {},
     "output_type": "execute_result"
    }
   ],
   "source": [
    "[r_star*100 Ks_star Kd_star iter] "
   ]
  },
  {
   "cell_type": "markdown",
   "metadata": {},
   "source": [
    "### Replicate Table II"
   ]
  },
  {
   "cell_type": "code",
   "execution_count": 13,
   "metadata": {},
   "outputs": [
    {
     "name": "stdout",
     "output_type": "stream",
     "text": [
      "661.869000 seconds (5.03 G allocations: 557.867 GiB, 9.77% gc time)\n"
     ]
    },
    {
     "data": {
      "text/plain": [
       "4×3 Array{Float64,2}:\n",
       " 0.041242   0.0401653  0.0388245\n",
       " 0.0410426  0.0394775  0.0375684\n",
       " 0.0406389  0.0379971  0.034807\n",
       " 0.0394177  0.0332917  0.0259546"
      ]
     },
     "execution_count": 13,
     "metadata": {},
     "output_type": "execute_result"
    }
   ],
   "source": [
    "Table = zeros(4, 3)\n",
    "rho_vec = [0 0.3 0.6 0.9 0 0.3 0.6 0.9 0 0.3 0.6 0.9]\n",
    "mu_vec = [1 1 1 1 3 3 3 3 5 5 5 5]\n",
    "\n",
    "@time begin\n",
    "    for i in 1:12\n",
    "        r_star, ~, ~, ~ = Eqm_r(HH(rho = rho_vec[i], mu = mu_vec[i]), max_bisec; TV=TV, VFI=VFI, Tμ=Tμ, stat_dist=stat_dist);\n",
    "        Table[i] = r_star\n",
    "    end\n",
    "end\n",
    "\n",
    "Table"
   ]
  },
  {
   "cell_type": "code",
   "execution_count": 14,
   "metadata": {},
   "outputs": [
    {
     "data": {
      "text/plain": [
       "4×3 Array{Float64,2}:\n",
       " 4.1242   4.01653  3.88245\n",
       " 4.10426  3.94775  3.75684\n",
       " 4.06389  3.79971  3.4807\n",
       " 3.94177  3.32917  2.59546"
      ]
     },
     "execution_count": 14,
     "metadata": {},
     "output_type": "execute_result"
    }
   ],
   "source": [
    "Table*100"
   ]
  },
  {
   "cell_type": "code",
   "execution_count": null,
   "metadata": {},
   "outputs": [],
   "source": []
  }
 ],
 "metadata": {
  "kernelspec": {
   "display_name": "Julia 1.5.3",
   "language": "julia",
   "name": "julia-1.5"
  },
  "language_info": {
   "file_extension": ".jl",
   "mimetype": "application/julia",
   "name": "julia",
   "version": "1.5.3"
  }
 },
 "nbformat": 4,
 "nbformat_minor": 4
}
