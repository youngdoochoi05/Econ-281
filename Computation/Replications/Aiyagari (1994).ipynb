{
 "cells": [
  {
   "cell_type": "markdown",
   "id": "1bf900d5-4d25-4d36-9274-b203f7a29e8e",
   "metadata": {
    "tags": []
   },
   "source": [
    "# Replication of Aiyagari (1994)\n",
    "\n",
    "##### Caveat: not self-documented perfectly\n",
    "\n",
    "#### Youngdoo Choi (yoc005@ucsd.edu), February 2023"
   ]
  },
  {
   "cell_type": "code",
   "execution_count": 1,
   "id": "d29ad339-a6a9-435d-9b0c-bf606bff8a23",
   "metadata": {},
   "outputs": [
    {
     "name": "stderr",
     "output_type": "stream",
     "text": [
      "OMP: Info #276: omp_set_nested routine deprecated, please use omp_set_max_active_levels instead.\n"
     ]
    }
   ],
   "source": [
    "import numpy as np\n",
    "import pandas as pd\n",
    "from numba import njit\n",
    "\n",
    "from interpolation import interp\n",
    "from quantecon.markov.approximation import tauchen"
   ]
  },
  {
   "cell_type": "markdown",
   "id": "c180f56c-836d-4ba0-a86f-f8e881b64b01",
   "metadata": {},
   "source": [
    "## 0. Parameterization"
   ]
  },
  {
   "cell_type": "code",
   "execution_count": 2,
   "id": "54bc677c-68d2-467a-a7e2-90f62effbe5c",
   "metadata": {},
   "outputs": [],
   "source": [
    "# Household parameters\n",
    "β = 0.96 # discount factor\n",
    "μ_vec = np.array((1, 3, 5)) # RRA coefficient\n",
    "\n",
    "# Firm parameters\n",
    "α = 0.36 # capital share\n",
    "δ = 0.08 # depreciation rate\n",
    "\n",
    "# Labor productivity process\n",
    "lgridsize = 7\n",
    "ρ_vec = np.array((0, 0.3, 0.6, 0.9)) # serial correlation\n",
    "σ_vec = np.array((0.2, 0.4)) # variance\n",
    "\n",
    "# Asset grids\n",
    "a_min = 0.0; a_max = 200.0; agridsize = 201\n",
    "curv = 1.5 # curvature\n",
    "agrid = np.array([a_min + a_max * (a/(agridsize-1))**curv for a in range(agridsize)])\n",
    "\n",
    "# Etc\n",
    "max_iter = 10000 # max of iteration\n",
    "tol = 1e-6 # tolerance"
   ]
  },
  {
   "cell_type": "markdown",
   "id": "f56aa05a-0216-411f-ad12-994feb018211",
   "metadata": {},
   "source": [
    "## 1. HH Problem"
   ]
  },
  {
   "cell_type": "code",
   "execution_count": 3,
   "id": "b7f666e2-fd5c-43e2-8be5-bae213eff040",
   "metadata": {},
   "outputs": [],
   "source": [
    "@njit\n",
    "def EGM(c_0, r, w, \n",
    "        lgrid, lgridsize, agrid, agridsize, Π, β, μ, max_iter, tol):\n",
    "    # Function for solving HH policy functions by the endogeneous grid method for given prices\n",
    "    \n",
    "    # Initial guess\n",
    "    c_old = c_0\n",
    "    \n",
    "    for iter in range(max_iter):\n",
    "        c_new = np.empty((lgridsize, agridsize))\n",
    "        \n",
    "        # Operator\n",
    "        for (lidx, l) in enumerate(lgrid):\n",
    "            c_tilde = np.empty(agridsize)\n",
    "            a_tilde = np.empty(agridsize)\n",
    "            \n",
    "            for (aidx, ap) in enumerate(agrid):\n",
    "                c_tilde[aidx] = (β * (1+r) * np.dot(Π[lidx, :], c_old[:, aidx]**(-μ))) ** (-1/μ)\n",
    "                a_tilde[aidx] = (c_tilde[aidx] + ap - w*l)/(1+r)\n",
    "            \n",
    "            # Check borrowing constraint\n",
    "            # binding case\n",
    "            thres_idx = np.where(agrid > a_tilde[0])[0][0]\n",
    "            c_new[lidx, :thres_idx] = (1+r)*agrid[:thres_idx] + w*l - agrid[0] \n",
    "            # non-binding case\n",
    "            c_tilde_interp = lambda a: interp(a_tilde, c_tilde, a)\n",
    "            c_new[lidx, thres_idx:] = c_tilde_interp(agrid[thres_idx:])\n",
    "            \n",
    "        # Updating\n",
    "        if np.max(np.abs(c_new - c_old)) < tol:\n",
    "            c_star = c_new        \n",
    "            ap_star = np.empty((lgridsize, agridsize))\n",
    "            for i in range(lgridsize):\n",
    "                ap_star[i, :] = (1+r)*agrid + w*lgrid[i] - c_star[i, :]\n",
    "            return c_star, ap_star\n",
    "        else:            \n",
    "            c_old = c_new\n",
    "            \n",
    "    # Check convergence\n",
    "    if iter == max_iter-1:\n",
    "        print(\"Error: No convergence in EGM function\")"
   ]
  },
  {
   "cell_type": "code",
   "execution_count": 5,
   "id": "ee0dc9a0-7195-4f3c-8ce6-5007e27eec3a",
   "metadata": {},
   "outputs": [
    {
     "name": "stdout",
     "output_type": "stream",
     "text": [
      "CPU times: user 713 ms, sys: 1.67 ms, total: 715 ms\n",
      "Wall time: 726 ms\n"
     ]
    }
   ],
   "source": [
    "%%time \n",
    "# Example: EGM\n",
    "\n",
    "# Give necessaries\n",
    "σ = 0.2\n",
    "ρ = 0.6\n",
    "μ = 3\n",
    "r = 0.04\n",
    "c_0 = np.ones((lgridsize, agridsize))\n",
    "\n",
    "# Wage\n",
    "w = (1-α)*((r+δ)/α)**(α/(α-1))\n",
    "\n",
    "# Labor productivity grids\n",
    "MC = tauchen(lgridsize, ρ, σ*(1-ρ**2)**(1/2), mu=0, n_std=3)\n",
    "Π = MC.P\n",
    "lgrid_temp = np.exp(MC.state_values); Π_stat = MC.stationary_distributions[0]\n",
    "lgrid = lgrid_temp / np.sum(lgrid_temp * Π_stat)\n",
    "\n",
    "# Solve\n",
    "c_star, ap_star = EGM(c_0, r, w, lgrid, lgridsize, agrid, agridsize, Π, β, μ, max_iter, tol)"
   ]
  },
  {
   "cell_type": "markdown",
   "id": "5e68e45f-bca6-49ae-905b-728acb629399",
   "metadata": {},
   "source": [
    "## 2. Stationary Distributions"
   ]
  },
  {
   "cell_type": "code",
   "execution_count": 6,
   "id": "a59b9724-f104-4fa8-b470-b1b4f5672da9",
   "metadata": {},
   "outputs": [],
   "source": [
    "@njit\n",
    "def stat_dist(mu_0, ap_star, \n",
    "              lgridsize, agrid, agridsize, Π, max_iter, tol):\n",
    "    # Function for solving the stationary distribution for given prices and policy functions\n",
    "    \n",
    "    # Initial guess\n",
    "    mu_old = mu_0\n",
    "    \n",
    "    for iter in range(max_iter):\n",
    "        mu_new = np.zeros((lgridsize, agridsize))\n",
    "        \n",
    "        # Operator        \n",
    "        for lidx in range(lgridsize):\n",
    "            for aidx in range(agridsize):\n",
    "                \n",
    "                if ap_star[lidx, aidx] > agrid[-1]:\n",
    "                    mu_new[:, -1] += mu_old[lidx, aidx] * Π[lidx, :]\n",
    "                else:\n",
    "                    idx_r = np.where(agrid > ap_star[lidx, aidx])[0][0]                    \n",
    "                    idx_l = idx_r - 1\n",
    "                    weight = (agrid[idx_r]-ap_star[lidx, aidx]) / (agrid[idx_r]-agrid[idx_l])\n",
    "                    mu_new[:, idx_l] += mu_old[lidx, aidx] * Π[lidx, :] * weight\n",
    "                    mu_new[:, idx_r] += mu_old[lidx, aidx] * Π[lidx, :] * (1-weight)\n",
    "                  \n",
    "        # Updating\n",
    "        if np.max(np.abs(mu_new - mu_old)) < tol:\n",
    "            mu_star = mu_new\n",
    "            return mu_star\n",
    "        else:\n",
    "            mu_old = mu_new            \n",
    "    \n",
    "    # Check convergence\n",
    "    if iter == max_iter-1:\n",
    "        print(\"No convergence in stat_dist function\")"
   ]
  },
  {
   "cell_type": "code",
   "execution_count": 8,
   "id": "587d9eb7-250c-4d97-aa53-8c0fbce414e6",
   "metadata": {},
   "outputs": [
    {
     "name": "stdout",
     "output_type": "stream",
     "text": [
      "CPU times: user 1.06 s, sys: 2.56 ms, total: 1.06 s\n",
      "Wall time: 1.08 s\n"
     ]
    }
   ],
   "source": [
    "%%time\n",
    "# Example: stat_dist\n",
    "\n",
    "# Give necessaries\n",
    "mu_0 = np.zeros((lgridsize, agridsize)); mu_0[int((lgridsize+1)/2), 0] = 1\n",
    "\n",
    "# Solve\n",
    "mu_star = stat_dist(mu_0, ap_star, lgridsize, agrid, agridsize, Π, max_iter, tol)"
   ]
  },
  {
   "cell_type": "markdown",
   "id": "1d75e3b7-a2f7-48ca-8f40-474d12d970cd",
   "metadata": {},
   "source": [
    "## 3. Equilibrium Interest Rates"
   ]
  },
  {
   "cell_type": "code",
   "execution_count": 9,
   "id": "64129a5a-55e8-4fc5-ab18-794e992754c7",
   "metadata": {},
   "outputs": [],
   "source": [
    "@njit\n",
    "def Eqm_r(r_0, \n",
    "          μ, lgrid, lgridsize, agrid, agridsize, Π, β, α, δ, max_iter, tol, \n",
    "          tol_eqm=1e-3, procedure=0):\n",
    "    # Function for solving equilibrium interest rates\n",
    "        \n",
    "    # Initial guess\n",
    "    r_old = r_0\n",
    "    c_0 = np.ones((lgridsize, agridsize))\n",
    "    mu_0 = np.zeros((lgridsize, agridsize)); mu_0[int((lgridsize+1)/2), 0] = 1\n",
    "    r_high = (1-β)/β - 0.0002\n",
    "    r_low = -δ\n",
    "    \n",
    "    for iter in range(max_iter):\n",
    "        \n",
    "        # Operator\n",
    "        w = (1-α)*((r_old+δ)/α)**(α/(α-1))\n",
    "        c_star, ap_star = EGM(c_0, r_old, w, lgrid, lgridsize, agrid, agridsize, Π, β, μ, max_iter, tol)\n",
    "        mu_star = stat_dist(mu_0, ap_star, lgridsize, agrid, agridsize, Π, max_iter, tol)\n",
    "        \n",
    "        # Asset market\n",
    "        K_supply = np.sum(np.sum(mu_star, 0)*agrid)\n",
    "        K_demand = ((r_old+δ)/α)**(1/(α-1))\n",
    "            \n",
    "        if procedure:\n",
    "            print([r_old*100, K_supply-K_demand, K_supply, K_demand])\n",
    "            \n",
    "        # Updating\n",
    "        if np.abs(K_supply-K_demand) < tol_eqm:\n",
    "            r_eqm = r_old\n",
    "            s_rate = (δ*α)/(r_eqm+δ)*100\n",
    "            return r_eqm, s_rate\n",
    "        elif K_supply > K_demand:\n",
    "            r_high = r_old\n",
    "            r_old = (r_old+r_low)/2\n",
    "        elif K_demand > K_supply:\n",
    "            r_low = r_old\n",
    "            r_old = (r_old+r_high)/2\n",
    "    \n",
    "    # Check convergence\n",
    "    if iter == max_iter-1:\n",
    "        print(\"No convergence in Eqm_r function\")"
   ]
  },
  {
   "cell_type": "code",
   "execution_count": 11,
   "id": "ad98db97-46d5-4fdd-9932-85fd6fb72fd3",
   "metadata": {},
   "outputs": [
    {
     "name": "stdout",
     "output_type": "stream",
     "text": [
      "[4.0, 3.9481294822805353, 9.513600948551536, 5.565471466271001]\n",
      "[-2.0, -15.800767384079489, 0.6377001676590234, 16.438467551738512]\n",
      "[1.0, -7.738934743601368, 0.9851271177206937, 8.724061861322062]\n",
      "[2.5, -5.303759019867439, 1.552928813519477, 6.856687833386916]\n",
      "[3.25, -3.763200420027859, 2.3927744902895105, 6.1559749103173695]\n",
      "[3.6250000000000004, -2.278870453541703, 3.569651911468178, 5.848522365009881]\n",
      "[3.8125000000000004, -0.6675123115679513, 5.036606479431245, 5.704118790999196]\n",
      "[3.90625, 0.8912852022290769, 6.5253809606060384, 5.6340957583769615]\n",
      "[3.8593750000000004, 0.003597712590221569, 5.67252768139592, 5.668929968805698]\n",
      "[3.8359375, -0.35370142534288984, 5.332778315303208, 5.686479740646098]\n",
      "[3.8476562500000004, -0.1810813352417986, 5.496612398988798, 5.677693734230597]\n",
      "[3.853515625000001, -0.09044045985217952, 5.5828686164375965, 5.673309076289776]\n",
      "[3.856445312500001, -0.043798599592612675, 5.627320229758754, 5.671118829351367]\n",
      "[3.857910156250001, -0.019961691231376477, 5.65006253462433, 5.670024225855706]\n",
      "[3.8586425781250004, -0.008440764406912216, 5.661036289627612, 5.669477054034524]\n",
      "[3.8590087890625, -0.002427617602966059, 5.6667758829942905, 5.6692035005972565]\n",
      "[3.85919189453125, 0.0008190095119990914, 5.669885741507912, 5.669066731995913]\n",
      "CPU times: user 13.3 s, sys: 24.2 ms, total: 13.4 s\n",
      "Wall time: 13.5 s\n"
     ]
    },
    {
     "data": {
      "text/plain": [
       "(3.85919189453125, 24.284959933299366)"
      ]
     },
     "execution_count": 11,
     "metadata": {},
     "output_type": "execute_result"
    }
   ],
   "source": [
    "%%time\n",
    "# Example: Eqm_r\n",
    "\n",
    "# Give parameters\n",
    "σ = 0.2\n",
    "ρ = 0.6\n",
    "μ = 3\n",
    "r_0 = 0.04\n",
    "\n",
    "# Labor productivity grids\n",
    "MC = tauchen(lgridsize, ρ, σ*(1-ρ**2)**(1/2), mu=0, n_std=3)\n",
    "Π = MC.P\n",
    "lgrid_temp = np.exp(MC.state_values); Π_stat = MC.stationary_distributions[0]\n",
    "lgrid = lgrid_temp / np.sum(lgrid_temp * Π_stat)\n",
    "\n",
    "# Solve\n",
    "r_eqm, s_rate = Eqm_r(r_0, μ, lgrid, lgridsize, agrid, agridsize, Π, β, α, δ, max_iter, tol, tol_eqm=1e-3, procedure=1)\n",
    "r_eqm*100, s_rate"
   ]
  },
  {
   "cell_type": "markdown",
   "id": "a0f432af-5220-4e9e-ba71-5f0bfc092f44",
   "metadata": {},
   "source": [
    "## 4. Replicate Table II"
   ]
  },
  {
   "cell_type": "code",
   "execution_count": 13,
   "id": "ace22f26-83c6-4809-9a98-ab342d9ce042",
   "metadata": {},
   "outputs": [
    {
     "name": "stdout",
     "output_type": "stream",
     "text": [
      "(4.139807942708337, 23.72360430734693)\n",
      "(4.071640625000003, 23.857569070069953)\n",
      "(3.9859065755208367, 24.02821999198548)\n",
      "(4.121313883463546, 23.75980052730941)\n",
      "(4.004873046875003, 23.990257862407756)\n",
      "(3.85902018229167, 24.285311566469236)\n",
      "(4.080948893229171, 23.83918701629564)\n",
      "(3.859160156250003, 24.285024926340885)\n",
      "(3.586210937500003, 24.857134187662457)\n",
      "(3.947133789062503, 24.106200289115492)\n",
      "(3.3555338541666675, 25.362083694050597)\n",
      "(2.653564453125, 27.033205765749248)\n",
      "CPU times: user 3min 20s, sys: 356 ms, total: 3min 20s\n",
      "Wall time: 3min 26s\n"
     ]
    },
    {
     "data": {
      "text/html": [
       "<div>\n",
       "<style scoped>\n",
       "    .dataframe tbody tr th:only-of-type {\n",
       "        vertical-align: middle;\n",
       "    }\n",
       "\n",
       "    .dataframe tbody tr th {\n",
       "        vertical-align: top;\n",
       "    }\n",
       "\n",
       "    .dataframe thead th {\n",
       "        text-align: right;\n",
       "    }\n",
       "</style>\n",
       "<table border=\"1\" class=\"dataframe\">\n",
       "  <thead>\n",
       "    <tr style=\"text-align: right;\">\n",
       "      <th></th>\n",
       "      <th>1</th>\n",
       "      <th>3</th>\n",
       "      <th>5</th>\n",
       "    </tr>\n",
       "  </thead>\n",
       "  <tbody>\n",
       "    <tr>\n",
       "      <th>0.0</th>\n",
       "      <td>(4.1398, 23.7236)</td>\n",
       "      <td>(4.0716, 23.8576)</td>\n",
       "      <td>(3.9859, 24.0282)</td>\n",
       "    </tr>\n",
       "    <tr>\n",
       "      <th>0.3</th>\n",
       "      <td>(4.1213, 23.7598)</td>\n",
       "      <td>(4.0049, 23.9903)</td>\n",
       "      <td>(3.859, 24.2853)</td>\n",
       "    </tr>\n",
       "    <tr>\n",
       "      <th>0.6</th>\n",
       "      <td>(4.0809, 23.8392)</td>\n",
       "      <td>(3.8592, 24.285)</td>\n",
       "      <td>(3.5862, 24.8571)</td>\n",
       "    </tr>\n",
       "    <tr>\n",
       "      <th>0.9</th>\n",
       "      <td>(3.9471, 24.1062)</td>\n",
       "      <td>(3.3555, 25.3621)</td>\n",
       "      <td>(2.6536, 27.0332)</td>\n",
       "    </tr>\n",
       "  </tbody>\n",
       "</table>\n",
       "</div>"
      ],
      "text/plain": [
       "                     1                  3                  5\n",
       "0.0  (4.1398, 23.7236)  (4.0716, 23.8576)  (3.9859, 24.0282)\n",
       "0.3  (4.1213, 23.7598)  (4.0049, 23.9903)   (3.859, 24.2853)\n",
       "0.6  (4.0809, 23.8392)   (3.8592, 24.285)  (3.5862, 24.8571)\n",
       "0.9  (3.9471, 24.1062)  (3.3555, 25.3621)  (2.6536, 27.0332)"
      ]
     },
     "execution_count": 13,
     "metadata": {},
     "output_type": "execute_result"
    }
   ],
   "source": [
    "%%time\n",
    "\n",
    "# Table II_A\n",
    "σ = σ_vec[0]\n",
    "Table_IIA = pd.DataFrame(index = ρ_vec, columns = μ_vec)\n",
    "r_0 = 0.03\n",
    "\n",
    "for (ρ_idx, ρ) in enumerate(ρ_vec):\n",
    "    for (μ_idx, μ) in enumerate(μ_vec):\n",
    "        \n",
    "        # Labor productivity grids\n",
    "        MC = tauchen(lgridsize, ρ, σ*(1-ρ**2)**(1/2), mu=0, n_std=3)\n",
    "        Π = MC.P\n",
    "        lgrid_temp = np.exp(MC.state_values); Π_stat = MC.stationary_distributions[0]\n",
    "        lgrid = lgrid_temp / np.sum(lgrid_temp * Π_stat)\n",
    "\n",
    "        # Solve\n",
    "        r_eqm, s_rate = Eqm_r(r_0, μ, lgrid, lgridsize, agrid, agridsize, Π, β, α, δ, max_iter, tol, tol_eqm=1e-3, procedure=0)\n",
    "        Table_IIA.iloc[ρ_idx, μ_idx] = (round(r_eqm*100, 4), round(s_rate, 4))\n",
    "        print((r_eqm*100, s_rate))\n",
    "        \n",
    "Table_IIA"
   ]
  },
  {
   "cell_type": "code",
   "execution_count": 15,
   "id": "23cd88e9-ffbd-4749-9190-c7f28ef61b35",
   "metadata": {},
   "outputs": [
    {
     "name": "stdout",
     "output_type": "stream",
     "text": [
      "(4.05134440104167, 23.897748700560445)\n",
      "(3.7603385416666706, 24.489090937273712)\n",
      "(3.4140429687500014, 25.232076030246454)\n",
      "(3.967569986979169, 24.06503578532206)\n",
      "(3.4697526041666684, 25.10952153365339)\n",
      "(2.9033203124999996, 26.413972234661887)\n",
      "(3.79561197916667, 24.4158590930817)\n",
      "(2.8939208984375, 26.43676254720258)\n",
      "(1.9680786132812502, 28.892227998310034)\n",
      "(3.3885677083333343, 25.2885180450973)\n",
      "(1.498443603515625, 30.32075695995117)\n",
      "(-0.10247802734375012, 36.467135007303334)\n",
      "CPU times: user 1min 3s, sys: 92 ms, total: 1min 3s\n",
      "Wall time: 1min 4s\n"
     ]
    },
    {
     "data": {
      "text/html": [
       "<div>\n",
       "<style scoped>\n",
       "    .dataframe tbody tr th:only-of-type {\n",
       "        vertical-align: middle;\n",
       "    }\n",
       "\n",
       "    .dataframe tbody tr th {\n",
       "        vertical-align: top;\n",
       "    }\n",
       "\n",
       "    .dataframe thead th {\n",
       "        text-align: right;\n",
       "    }\n",
       "</style>\n",
       "<table border=\"1\" class=\"dataframe\">\n",
       "  <thead>\n",
       "    <tr style=\"text-align: right;\">\n",
       "      <th></th>\n",
       "      <th>1</th>\n",
       "      <th>3</th>\n",
       "      <th>5</th>\n",
       "    </tr>\n",
       "  </thead>\n",
       "  <tbody>\n",
       "    <tr>\n",
       "      <th>0.0</th>\n",
       "      <td>(4.0513, 23.8977)</td>\n",
       "      <td>(3.7603, 24.4891)</td>\n",
       "      <td>(3.414, 25.2321)</td>\n",
       "    </tr>\n",
       "    <tr>\n",
       "      <th>0.3</th>\n",
       "      <td>(3.9676, 24.065)</td>\n",
       "      <td>(3.4698, 25.1095)</td>\n",
       "      <td>(2.9033, 26.414)</td>\n",
       "    </tr>\n",
       "    <tr>\n",
       "      <th>0.6</th>\n",
       "      <td>(3.7956, 24.4159)</td>\n",
       "      <td>(2.8939, 26.4368)</td>\n",
       "      <td>(1.9681, 28.8922)</td>\n",
       "    </tr>\n",
       "    <tr>\n",
       "      <th>0.9</th>\n",
       "      <td>(3.3886, 25.2885)</td>\n",
       "      <td>(1.4984, 30.3208)</td>\n",
       "      <td>(-0.1025, 36.4671)</td>\n",
       "    </tr>\n",
       "  </tbody>\n",
       "</table>\n",
       "</div>"
      ],
      "text/plain": [
       "                     1                  3                   5\n",
       "0.0  (4.0513, 23.8977)  (3.7603, 24.4891)    (3.414, 25.2321)\n",
       "0.3   (3.9676, 24.065)  (3.4698, 25.1095)    (2.9033, 26.414)\n",
       "0.6  (3.7956, 24.4159)  (2.8939, 26.4368)   (1.9681, 28.8922)\n",
       "0.9  (3.3886, 25.2885)  (1.4984, 30.3208)  (-0.1025, 36.4671)"
      ]
     },
     "execution_count": 15,
     "metadata": {},
     "output_type": "execute_result"
    }
   ],
   "source": [
    "%%time\n",
    "\n",
    "# Table II_B\n",
    "σ = σ_vec[1]\n",
    "Table_IIB = pd.DataFrame(index = ρ_vec, columns = μ_vec)\n",
    "r_0 = 0.03\n",
    "\n",
    "for (ρ_idx, ρ) in enumerate(ρ_vec):\n",
    "    for (μ_idx, μ) in enumerate(μ_vec):\n",
    "        \n",
    "        # Labor productivity grids\n",
    "        MC = tauchen(lgridsize, ρ, σ*(1-ρ**2)**(1/2), mu=0, n_std=3)\n",
    "        Π = MC.P\n",
    "        lgrid_temp = np.exp(MC.state_values); Π_stat = MC.stationary_distributions[0]\n",
    "        lgrid = lgrid_temp / np.sum(lgrid_temp * Π_stat)\n",
    "\n",
    "        # Solve\n",
    "        r_eqm, s_rate = Eqm_r(r_0, μ, lgrid, lgridsize, agrid, agridsize, Π, β, α, δ, max_iter, tol, tol_eqm=1e-3, procedure=0)\n",
    "        Table_IIB.iloc[ρ_idx, μ_idx] = (round(r_eqm*100, 4), round(s_rate, 4))\n",
    "        print((r_eqm*100, s_rate))\n",
    "\n",
    "Table_IIB"
   ]
  },
  {
   "cell_type": "code",
   "execution_count": null,
   "id": "777ce43d-d081-4592-a8a3-dabefb1adc34",
   "metadata": {},
   "outputs": [],
   "source": []
  }
 ],
 "metadata": {
  "kernelspec": {
   "display_name": "Python 3 (ipykernel)",
   "language": "python",
   "name": "python3"
  },
  "language_info": {
   "codemirror_mode": {
    "name": "ipython",
    "version": 3
   },
   "file_extension": ".py",
   "mimetype": "text/x-python",
   "name": "python",
   "nbconvert_exporter": "python",
   "pygments_lexer": "ipython3",
   "version": "3.10.8"
  }
 },
 "nbformat": 4,
 "nbformat_minor": 5
}
