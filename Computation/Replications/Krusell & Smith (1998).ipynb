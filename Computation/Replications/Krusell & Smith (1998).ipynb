{
 "cells": [
  {
   "cell_type": "markdown",
   "id": "22803b2c-79a3-4f24-8211-f5595de2aec7",
   "metadata": {
    "tags": []
   },
   "source": [
    "# Replication of Krusell-Smith (1998)\n",
    "\n",
    "##### Caveat: not self-documented perfectly\n",
    "\n",
    "#### Youngdoo Choi (yoc005@ucsd.edu), March 2023"
   ]
  },
  {
   "cell_type": "code",
   "execution_count": 1,
   "id": "3a6ea91c",
   "metadata": {},
   "outputs": [],
   "source": [
    "import numpy as np\n",
    "from numba import njit\n",
    "\n",
    "from interpolation import interp\n",
    "import statsmodels.api as SM\n",
    "import random"
   ]
  },
  {
   "cell_type": "markdown",
   "id": "055b15e3-51be-4644-a073-ee489d569579",
   "metadata": {},
   "source": [
    "## 0. Setup"
   ]
  },
  {
   "cell_type": "code",
   "execution_count": 2,
   "id": "437bc6ec",
   "metadata": {},
   "outputs": [],
   "source": [
    "# Household parameers\n",
    "β = 0.99         # discount factor\n",
    "l_tilde = 0.3271 # labor input\n",
    "\n",
    "# Firm parameters\n",
    "α = 0.36  # capital share\n",
    "δ = 0.025 # depreciation rate\n",
    "\n",
    "# Employment grids\n",
    "ϵ_unem = 0.0; ϵ_empl = 1.0; ϵgridsize = 2\n",
    "ϵgrid = np.array((ϵ_unem, ϵ_empl))\n",
    "\n",
    "# Capital grids\n",
    "k_min = 1e-6; k_max = 50.0; kgridsize = 151\n",
    "curv = 1.5 # curvature\n",
    "kgrid = np.array([k_min + k_max * (k/(kgridsize-1))**curv for k in range(kgridsize)])\n",
    "\n",
    "# Aggregate capital grids\n",
    "K_min = 5.0; K_max = 20.0; Kgridsize = 26\n",
    "Kgrid = np.linspace(K_min, K_max, Kgridsize)\n",
    "\n",
    "# TFP grids\n",
    "z_b = 0.99; z_g = 1.01; zgridsize = 2\n",
    "zgrid = np.array((z_b, z_g))\n",
    "\n",
    "# Additional grids\n",
    "u_b = 0.1; u_g = 0.04\n",
    "ugrid = np.array((u_b, u_g))\n",
    "Lgrid = (1-ugrid) * l_tilde\n",
    "\n",
    "# Etc\n",
    "tol = 1e-6 # tolerance\n",
    "max_iter = 10000\n",
    "update_weight = 0.2 # updating weight of coefficients"
   ]
  },
  {
   "cell_type": "code",
   "execution_count": 3,
   "id": "57d6de20",
   "metadata": {},
   "outputs": [],
   "source": [
    "# Transition matrix\n",
    "# Step 1: Calculate each entry\n",
    "u_b = 0.1  # unemployment rate in bad times\n",
    "u_g = 0.04 # unemployment rate in good times\n",
    "\n",
    "π_bb = 1 - 1/8  # average duration of bad times = 8 quarters\n",
    "π_gg = 1 - 1/8  # average duration of good times = 8 quarters\n",
    "π_bg = 1 - π_gg # π_bg + π_gg = 1\n",
    "π_gb = 1 - π_bb # π_gb + π_bb = 1\n",
    "\n",
    "π_bb00 = 1 - 1/2.5     # average duration of unemployment in bad times\n",
    "π_gg00 = 1 - 1/1.5     # average duration of unemployment in good times\n",
    "π_bb01 = π_bb - π_bb00 # π_bb00 + π_bb01 = π_bb\n",
    "π_gg01 = π_gg - π_gg00 # π_gg00 + π_gg01 = π_gg\n",
    "\n",
    "π_bg00 = 0.75 * π_gg00 / π_gg * π_bg\n",
    "π_gb00 = 1.25 * π_bb00 / π_bb * π_gb\n",
    "π_bg01 = π_bg - π_bg00 # π_bg00 + π_bg01 = π_bg\n",
    "π_gb01 = π_gb - π_gb00 # π_gb00 + π_gb01 = π_gb\n",
    "\n",
    "π_bb10 = u_b*(1-π_bb00/π_bb) * π_bb/(1-u_b)     # u_b*π_bb00/π_bb + (1-u_b)*π_bb10/π_bb = u_b\n",
    "π_gg10 = u_g*(1-π_gg00/π_gg) * π_gg/(1-u_g)     # u_g*π_gg00/π_gg + (1-u_g)*π_gg10/π_gg = u_g\n",
    "π_bg10 = (u_g - u_b*π_bg00/π_bg) * π_bg/(1-u_b) # u_b*π_bg00/π_bg + (1-u_b)*π_bg10/π_bg = u_g\n",
    "π_gb10 = (u_b - u_g*π_gb00/π_gb) * π_gb/(1-u_g) # u_g*π_gb00/π_gb + (1-u_g)*π_gb10/π_gb = u_b\n",
    "π_bb11 = π_bb - π_bb10 # π_bb10 + π_bb11 = π_bb\n",
    "π_gg11 = π_gg - π_gg10 # π_gg10 + π_gg11 = π_gg\n",
    "π_bg11 = π_bg - π_bg10 # π_bg10 + π_bg11 = π_bg\n",
    "π_gb11 = π_gb - π_gb10 # π_gb10 + π_gb11 = π_gb\n",
    "\n",
    "# Step 2: Compose the transition matrix\n",
    "Π = np.empty((zgridsize, zgridsize, ϵgridsize, ϵgridsize))\n",
    "Π[0, 0, 0, 0] = π_bb00; Π[0, 0, 0, 1] = π_bb01; Π[0, 1, 0, 0] = π_bg00; Π[0, 1, 0, 1] = π_bg01\n",
    "Π[0, 0, 1, 0] = π_bb10; Π[0, 0, 1, 1] = π_bb11; Π[0, 1, 1, 0] = π_bg10; Π[0, 1, 1, 1] = π_bg11\n",
    "Π[1, 0, 0, 0] = π_gb00; Π[1, 0, 0, 1] = π_gb01; Π[1, 1, 0, 0] = π_gg00; Π[1, 1, 0, 1] = π_gg01\n",
    "Π[1, 0, 1, 0] = π_gb10; Π[1, 0, 1, 1] = π_gb11; Π[1, 1, 1, 0] = π_gg10; Π[1, 1, 1, 1] = π_gg11"
   ]
  },
  {
   "cell_type": "code",
   "execution_count": 4,
   "id": "975706da",
   "metadata": {},
   "outputs": [],
   "source": [
    "# Simulation parameters\n",
    "T = 11000  # simulation length\n",
    "T_0 = 1000 # cut-off length\n",
    "random.seed(202303) # set seed\n",
    "\n",
    "# Simulate z series\n",
    "z_series = np.empty(T)\n",
    "z0 = z_b; z_series[0] = z0\n",
    "for i in range(T-1):\n",
    "    temp = random.random()\n",
    "    if z_series[i] == zgrid[0]:\n",
    "        z_series[i+1] = zgrid[0] * float(temp <= π_bb) + zgrid[1] * float(temp > π_bb)\n",
    "    else:\n",
    "        z_series[i+1] = zgrid[0] * float(temp <= π_gb) + zgrid[1] * float(temp > π_gb)"
   ]
  },
  {
   "cell_type": "markdown",
   "id": "4105db2e-789f-4543-b5d6-3507481cb8f6",
   "metadata": {},
   "source": [
    "## 1. HH Problem"
   ]
  },
  {
   "cell_type": "code",
   "execution_count": 5,
   "id": "0acf6dd8",
   "metadata": {},
   "outputs": [],
   "source": [
    "@njit\n",
    "def EGM_operator(φ_mat, c_old, \n",
    "                 zgrid, zgridsize, Kgrid, Kgridsize, ϵgrid, ϵgridsize, kgrid, kgridsize, ugrid, Lgrid, l_tilde, Π, α, δ):\n",
    "    # An operator to solve HH problem by the endogenous grid method for given coefficients\n",
    "    \n",
    "    # Pre-allocation\n",
    "    c_new = np.empty((zgridsize, Kgridsize, ϵgridsize, kgridsize))\n",
    "    kp_new = np.empty((zgridsize, Kgridsize, ϵgridsize, kgridsize))\n",
    "    \n",
    "    # Fix aggregate states\n",
    "    for (z_idx, z) in enumerate(zgrid):\n",
    "        L = (1-ugrid[z_idx]) * l_tilde # today's aggregate labor\n",
    "        \n",
    "        for (K_idx, K) in enumerate(Kgrid):\n",
    "            w = (1-α)*z*(K/L)**α # today's wage\n",
    "            r = α*z*(K/L)**(α-1) # today's interest rate\n",
    "            Kp = np.exp(φ_mat[z_idx, 0] + φ_mat[z_idx, 1] * np.log(K)) # tomorrow's aggregate capital\n",
    "            \n",
    "            # Fix individual states\n",
    "            for (ϵ_idx, ϵ) in enumerate(ϵgrid):\n",
    "                c_tilde = np.empty(kgridsize)\n",
    "                k_tilde = np.empty(kgridsize)\n",
    "                \n",
    "                for (kp_idx, kp) in enumerate(kgrid):\n",
    "                    c_old_interp1 = lambda a: interp(Kgrid, c_old[0, :, 0, kp_idx], a)\n",
    "                    c_old_interp2 = lambda a: interp(Kgrid, c_old[1, :, 0, kp_idx], a)\n",
    "                    c_old_interp3 = lambda a: interp(Kgrid, c_old[0, :, 1, kp_idx], a)\n",
    "                    c_old_interp4 = lambda a: interp(Kgrid, c_old[1, :, 1, kp_idx], a)\n",
    "                    \n",
    "                    Euler_RHS = β * ((1/c_old_interp1(Kp)) * (α*zgrid[0]*(Kp/Lgrid[0])**(α-1) + 1-δ) * Π[z_idx, 0, ϵ_idx, 0] + \n",
    "                                     (1/c_old_interp2(Kp)) * (α*zgrid[1]*(Kp/Lgrid[1])**(α-1) + 1-δ) * Π[z_idx, 0, ϵ_idx, 1] + \n",
    "                                     (1/c_old_interp3(Kp)) * (α*zgrid[0]*(Kp/Lgrid[0])**(α-1) + 1-δ) * Π[z_idx, 1, ϵ_idx, 0] + \n",
    "                                     (1/c_old_interp4(Kp)) * (α*zgrid[1]*(Kp/Lgrid[1])**(α-1) + 1-δ) * Π[z_idx, 1, ϵ_idx, 1])\n",
    "                    c_tilde[kp_idx] = 1/Euler_RHS\n",
    "                    k_tilde[kp_idx] = (c_tilde[kp_idx] + kp - w*l_tilde*ϵgrid[ϵ_idx]) / (r+1-δ)\n",
    "                \n",
    "                # Check borrowing constraint\n",
    "                thres_idx = np.where(kgrid > k_tilde[0])[0][0]\n",
    "                # binding case\n",
    "                c_new[z_idx, K_idx, ϵ_idx, :thres_idx] = (r+1-δ)*kgrid[:thres_idx] + w*l_tilde*ϵ - kgrid[0]\n",
    "                kp_new[z_idx, K_idx, ϵ_idx, :thres_idx] = kgrid[0]\n",
    "                # non-binding case\n",
    "                c_tilde_interp = lambda a: interp(k_tilde, c_tilde, a)\n",
    "                c_new[z_idx, K_idx, ϵ_idx, thres_idx:] = c_tilde_interp(kgrid[thres_idx:])\n",
    "                kp_new[z_idx, K_idx, ϵ_idx, thres_idx:] = (r+1-δ)*kgrid[thres_idx:] + w*l_tilde*ϵ - c_new[z_idx, K_idx, ϵ_idx, thres_idx:]\n",
    "        \n",
    "    return c_new, kp_new"
   ]
  },
  {
   "cell_type": "code",
   "execution_count": 7,
   "id": "8674c0c8",
   "metadata": {},
   "outputs": [
    {
     "name": "stdout",
     "output_type": "stream",
     "text": [
      "CPU times: user 1.7 ms, sys: 18 µs, total: 1.72 ms\n",
      "Wall time: 1.74 ms\n"
     ]
    }
   ],
   "source": [
    "%%time\n",
    "# Example: EGM_operator\n",
    "\n",
    "# Give necessaries\n",
    "φ_b0 = np.mean(Kgrid); φ_b1 = 0\n",
    "φ_g0 = np.mean(Kgrid); φ_g1 = 0\n",
    "φ_mat = np.array(((φ_b0, φ_b1), (φ_g0, φ_g1)))\n",
    "c_old = np.ones((zgridsize, Kgridsize, ϵgridsize, kgridsize))\n",
    "\n",
    "# Solve\n",
    "c_new, kp_new = EGM_operator(φ_mat, c_old, zgrid, zgridsize, Kgrid, Kgridsize, ϵgrid, ϵgridsize, kgrid, kgridsize, ugrid, Lgrid, l_tilde, Π, α, δ)"
   ]
  },
  {
   "cell_type": "code",
   "execution_count": 8,
   "id": "c7f15f0b",
   "metadata": {},
   "outputs": [],
   "source": [
    "@njit\n",
    "def EGM_iterator(φ_mat, c_0, \n",
    "                 zgrid, zgridsize, Kgrid, Kgridsize, ϵgrid, ϵgridsize, kgrid, kgridsize, ugrid, Lgrid, l_tilde, Π, α, δ, tol, max_iter):\n",
    "    # An iterator to solve HH problem by the endogenous grid method for given coefficients\n",
    "    \n",
    "    c_old = c_0\n",
    "    \n",
    "    for iter in range(max_iter):\n",
    "        c_new, kp_new = EGM_operator(φ_mat, c_old, zgrid, zgridsize, Kgrid, Kgridsize, ϵgrid, ϵgridsize, kgrid, kgridsize, ugrid, Lgrid, l_tilde, Π, α, δ)\n",
    "        \n",
    "        # Updating\n",
    "        if np.max(np.abs(c_new - c_old)) < tol:\n",
    "            c_star = c_new\n",
    "            kp_star = kp_new\n",
    "            return c_star, kp_star\n",
    "        else:\n",
    "            c_old = c_new\n",
    "        \n",
    "    # Check convergence\n",
    "    if iter == max_iter-1:\n",
    "        print(\"Error: No convergence in EGM_iterator function\")"
   ]
  },
  {
   "cell_type": "code",
   "execution_count": 10,
   "id": "04764423",
   "metadata": {},
   "outputs": [
    {
     "name": "stdout",
     "output_type": "stream",
     "text": [
      "CPU times: user 155 ms, sys: 857 µs, total: 156 ms\n",
      "Wall time: 157 ms\n"
     ]
    }
   ],
   "source": [
    "%%time\n",
    "# Example: EGM_iterator\n",
    "\n",
    "# Give necessaries\n",
    "φ_b0 = np.mean(Kgrid); φ_b1 = 0\n",
    "φ_g0 = np.mean(Kgrid); φ_g1 = 0\n",
    "φ_mat = np.array(((φ_b0, φ_b1), (φ_g0, φ_g1)))\n",
    "c_0 = np.ones((zgridsize, Kgridsize, ϵgridsize, kgridsize))\n",
    "\n",
    "# Solve\n",
    "c_star, kp_star = EGM_iterator(φ_mat, c_0, zgrid, zgridsize, Kgrid, Kgridsize, ϵgrid, ϵgridsize, kgrid, kgridsize, ugrid, Lgrid, l_tilde, Π, α, δ, tol, max_iter)"
   ]
  },
  {
   "cell_type": "markdown",
   "id": "af960670-e845-4014-b64a-8e2129c509b2",
   "metadata": {},
   "source": [
    "## 2. Simulation"
   ]
  },
  {
   "cell_type": "code",
   "execution_count": 11,
   "id": "98653271",
   "metadata": {},
   "outputs": [],
   "source": [
    "@njit\n",
    "def mu_operator(kp_star, mu_old, z_idx, zp_idx, \n",
    "                ϵgridsize, kgrid, kgridsize, Π):\n",
    "    # An operator to update individuals' distribution by the step function approximation method\n",
    "    \n",
    "    # Pre-allocation\n",
    "    mu_new = np.zeros((ϵgridsize, kgridsize))\n",
    "    \n",
    "    # Calculate aggregate capital\n",
    "    K = np.dot(np.sum(mu_old, 0), kgrid)\n",
    "\n",
    "    for ϵ_idx in range(ϵgridsize):\n",
    "        for k_idx in range(kgridsize):\n",
    "            \n",
    "            # Interpolate the policy function with respect to K            \n",
    "            kp = interp(Kgrid, kp_star[z_idx, :, ϵ_idx, k_idx], K)\n",
    "            \n",
    "            if kp > kgrid[-1]:\n",
    "                mu_new[:, -1] += mu_old[ϵ_idx, k_idx] * (Π[z_idx, zp_idx, ϵ_idx, :] / np.sum(Π[z_idx, zp_idx, ϵ_idx, :]))\n",
    "            else:\n",
    "                idx_r = np.where(kgrid > kp)[0][0]\n",
    "                idx_l = idx_r - 1\n",
    "                weight = (kgrid[idx_r]-kp) / (kgrid[idx_r]-kgrid[idx_l])\n",
    "                mu_new[:, idx_l] += mu_old[ϵ_idx, k_idx] * (Π[z_idx, zp_idx, ϵ_idx, :] / np.sum(Π[z_idx, zp_idx, ϵ_idx, :])) * weight\n",
    "                mu_new[:, idx_r] += mu_old[ϵ_idx, k_idx] * (Π[z_idx, zp_idx, ϵ_idx, :] / np.sum(Π[z_idx, zp_idx, ϵ_idx, :])) * (1-weight)\n",
    "                \n",
    "    return mu_new"
   ]
  },
  {
   "cell_type": "code",
   "execution_count": 13,
   "id": "9786e3ed",
   "metadata": {},
   "outputs": [
    {
     "name": "stdout",
     "output_type": "stream",
     "text": [
      "CPU times: user 227 µs, sys: 1e+03 ns, total: 228 µs\n",
      "Wall time: 231 µs\n"
     ]
    }
   ],
   "source": [
    "%%time\n",
    "# Example: mu_operator\n",
    "\n",
    "# Give necessaries\n",
    "mu_old = np.ones((ϵgridsize, kgridsize)) / (ϵgridsize*kgridsize)\n",
    "z_idx = 1; zp_idx = 1\n",
    "\n",
    "# Solve\n",
    "mu_new = mu_operator(kp_star, mu_old, z_idx, zp_idx, ϵgridsize, kgrid, kgridsize, Π)"
   ]
  },
  {
   "cell_type": "code",
   "execution_count": 14,
   "id": "9cfdad4c",
   "metadata": {},
   "outputs": [],
   "source": [
    "@njit\n",
    "def Simulate_forward(kp_star, mu_0, \n",
    "                     zgrid, ϵgridsize, kgrid, kgridsize, Π, z_series, T, T_0):\n",
    "    # A simulator which generates mu & K series for given z_series\n",
    "    \n",
    "    # Pre-allocation\n",
    "    mu_series = np.empty((T, ϵgridsize, kgridsize))\n",
    "    K_series = np.empty(T)\n",
    "    \n",
    "    # Initial guess\n",
    "    mu_series[0, :, :] = mu_0\n",
    "    K0 = np.dot(np.sum(mu_0, 0), kgrid)\n",
    "    K_series[0] = K0\n",
    "    \n",
    "    for i in range(T-1):\n",
    "        z_idx = np.where(z_series[i] == zgrid)[0][0]\n",
    "        zp_idx = np.where(z_series[i+1] == zgrid)[0][0]\n",
    "        mu_series[i+1, :, :] = mu_operator(kp_star, mu_series[i, :, :], z_idx, zp_idx, ϵgridsize, kgrid, kgridsize, Π)\n",
    "        K_series[i+1] = np.dot(np.sum(mu_series[i+1, :, :], 0), kgrid)\n",
    "        \n",
    "    K_series_pure = K_series[T_0:]\n",
    "    z_series_pure = z_series[T_0:]\n",
    "    return K_series_pure, z_series_pure"
   ]
  },
  {
   "cell_type": "code",
   "execution_count": 16,
   "id": "a09b8410",
   "metadata": {},
   "outputs": [
    {
     "name": "stdout",
     "output_type": "stream",
     "text": [
      "CPU times: user 1.68 s, sys: 5.85 ms, total: 1.69 s\n",
      "Wall time: 1.7 s\n"
     ]
    },
    {
     "data": {
      "text/plain": [
       "array([1.03868492, 1.09678516, 1.14501251, ..., 1.38565844, 1.38768744,\n",
       "       1.38940801])"
      ]
     },
     "execution_count": 16,
     "metadata": {},
     "output_type": "execute_result"
    }
   ],
   "source": [
    "%%time\n",
    "# Example: Simulate_forward\n",
    "\n",
    "# Give necessaries\n",
    "mu_0 = np.ones((ϵgridsize, kgridsize)) / (ϵgridsize*kgridsize)\n",
    "\n",
    "# Solve\n",
    "K_series_pure, z_series_pure = Simulate_forward(kp_star, mu_0, zgrid, ϵgridsize, kgrid, kgridsize, Π, z_series, T, T_0)\n",
    "K_series_pure # plausible results?"
   ]
  },
  {
   "cell_type": "markdown",
   "id": "4bb5d247-b95c-4259-999a-5771a06ca9ab",
   "metadata": {},
   "source": [
    "## 3. OLS"
   ]
  },
  {
   "cell_type": "code",
   "execution_count": 17,
   "id": "e400a271",
   "metadata": {},
   "outputs": [],
   "source": [
    "#@njit\n",
    "def Coef_OLS(K_series_pure, z_series_pure, \n",
    "             zgrid):\n",
    "    \n",
    "    # Divide samples\n",
    "    if z_series_pure[-1] == zgrid[0]:\n",
    "        b_idx = np.where(z_series_pure == zgrid[0])[0]\n",
    "        Kb_idx = np.delete(b_idx, -1)\n",
    "        K_vec_b = K_series_pure[Kb_idx]\n",
    "        Kp_vec_b = K_series_pure[Kb_idx + 1]\n",
    "        K_vec_g = K_series_pure[np.where(z_series_pure == zgrid[1])[0]]\n",
    "        Kp_vec_g = K_series_pure[np.where(z_series_pure == zgrid[1])[0] + 1]\n",
    "    else:\n",
    "        g_idx = np.where(z_series_pure == zgrid[1])[0]\n",
    "        Kg_idx = np.delete(g_idx, -1)\n",
    "        K_vec_b = K_series_pure[np.where(z_series_pure == zgrid[0])[0]]\n",
    "        Kp_vec_b = K_series_pure[np.where(z_series_pure == zgrid[0])[0] + 1]\n",
    "        K_vec_g = K_series_pure[Kg_idx]\n",
    "        Kp_vec_g = K_series_pure[Kg_idx + 1]\n",
    "        \n",
    "    # Run the regression\n",
    "    #model = SM.OLS(np.log(Kp_vec_b), np.transpose(np.array([np.ones(np.size(K_vec_b)), np.log(K_vec_b)])))\n",
    "    logK_vec_b = SM.add_constant(np.log(K_vec_b))\n",
    "    model = SM.OLS(np.log(Kp_vec_b), logK_vec_b)\n",
    "    results = model.fit()\n",
    "    φ_b = results.params\n",
    "    R_squared_b = results.rsquared\n",
    "    \n",
    "    #model = SM.OLS(np.log(Kp_vec_g), np.transpose(np.array([np.ones(np.size(K_vec_g)), np.log(K_vec_g)])))\n",
    "    logK_vec_g = SM.add_constant(np.log(K_vec_g))\n",
    "    model = SM.OLS(np.log(Kp_vec_g), logK_vec_g)\n",
    "    results = model.fit()\n",
    "    results.params\n",
    "    φ_g = results.params\n",
    "    R_squared_g = results.rsquared\n",
    "    \n",
    "    φ_mat_new = np.array((φ_b, φ_g))\n",
    "    R_squared = np.array((R_squared_b, R_squared_g))\n",
    "    \n",
    "    return φ_mat_new, R_squared"
   ]
  },
  {
   "cell_type": "code",
   "execution_count": 19,
   "id": "6b37dd18",
   "metadata": {},
   "outputs": [
    {
     "name": "stdout",
     "output_type": "stream",
     "text": [
      "[[ 0.07221296  0.7515215 ]\n",
      " [-0.08472005  0.88707995]] [0.99756345 0.99909395]\n",
      "CPU times: user 54.9 ms, sys: 7.3 ms, total: 62.2 ms\n",
      "Wall time: 8.73 ms\n"
     ]
    }
   ],
   "source": [
    "%%time\n",
    "# Example: Simulate_forward\n",
    "\n",
    "# Solve\n",
    "φ_mat_new, R_squared = Coef_OLS(K_series_pure, z_series_pure, zgrid)\n",
    "print(φ_mat_new, R_squared) # plausible results?"
   ]
  },
  {
   "cell_type": "markdown",
   "id": "abcfc01b-3b6a-4378-9fc3-8827934d1889",
   "metadata": {
    "tags": []
   },
   "source": [
    "## 4. Final: Iterate to find true coefficients"
   ]
  },
  {
   "cell_type": "code",
   "execution_count": 20,
   "id": "96ee1469",
   "metadata": {},
   "outputs": [],
   "source": [
    "#@njit\n",
    "def φ_mat_operator(φ_mat, \n",
    "                   zgrid, zgridsize, Kgrid, Kgridsize, ϵgrid, ϵgridsize, kgrid, kgridsize, ugrid, Lgrid, l_tilde, Π, z_series, T, T_0, α, δ, tol, max_iter):\n",
    "    \n",
    "    # Initial guess\n",
    "    c_0 = np.ones((zgridsize, Kgridsize, ϵgridsize, kgridsize))\n",
    "    mu_0 = np.ones((ϵgridsize, kgridsize)) / (ϵgridsize*kgridsize)\n",
    "    \n",
    "    # Step 1: HH problem\n",
    "    c_star, kp_star = EGM_iterator(φ_mat, c_0, zgrid, zgridsize, Kgrid, Kgridsize, ϵgrid, ϵgridsize, kgrid, kgridsize, ugrid, Lgrid, l_tilde, Π, α, δ, tol, max_iter)\n",
    "    \n",
    "    # Step 2: Simulate forward\n",
    "    K_series_pure, z_series_pure = Simulate_forward(kp_star, mu_0, zgrid, ϵgridsize, kgrid, kgridsize, Π, z_series, T, T_0)\n",
    "    \n",
    "    # Step 3: Calculate coefficients\n",
    "    φ_mat_new, R_squared = Coef_OLS(K_series_pure, z_series_pure, zgrid)\n",
    "    \n",
    "    return φ_mat_new, R_squared"
   ]
  },
  {
   "cell_type": "code",
   "execution_count": 22,
   "id": "a72af804",
   "metadata": {},
   "outputs": [
    {
     "name": "stdout",
     "output_type": "stream",
     "text": [
      "CPU times: user 1.93 s, sys: 35 ms, total: 1.96 s\n",
      "Wall time: 1.89 s\n"
     ]
    }
   ],
   "source": [
    "%%time\n",
    "# Example: φ_mat_operator\n",
    "\n",
    "# Give necessaries\n",
    "φ_b0 = np.mean(Kgrid); φ_b1 = 0\n",
    "φ_g0 = np.mean(Kgrid); φ_g1 = 0\n",
    "φ_mat = np.array(((φ_b0, φ_b1), (φ_g0, φ_g1)))\n",
    "\n",
    "# Solve\n",
    "φ_mat_new, R_squared = φ_mat_operator(φ_mat, zgrid, zgridsize, Kgrid, Kgridsize, ϵgrid, ϵgridsize, kgrid, kgridsize, ugrid, Lgrid, l_tilde, Π, z_series, T, T_0, α, δ, tol, max_iter)"
   ]
  },
  {
   "cell_type": "code",
   "execution_count": 23,
   "id": "091c59b8",
   "metadata": {},
   "outputs": [],
   "source": [
    "#@njit\n",
    "def φ_mat_iterator(φ_mat_0, \n",
    "                   zgrid, zgridsize, Kgrid, Kgridsize, ϵgrid, ϵgridsize, kgrid, kgridsize, ugrid, Lgrid, l_tilde, z_series, T, T_0, Π, α, δ, tol, max_iter, update_weight, procedure=0):\n",
    "    \n",
    "    φ_mat = φ_mat_0\n",
    "    \n",
    "    for iter in range(max_iter):\n",
    "        φ_mat_new, R_squared = φ_mat_operator(φ_mat, zgrid, zgridsize, Kgrid, Kgridsize, ϵgrid, ϵgridsize, kgrid, kgridsize, ugrid, Lgrid, l_tilde, Π, z_series, T, T_0, α, δ, tol, max_iter)        \n",
    "        \n",
    "        diff = np.max(np.abs(φ_mat_new - φ_mat))\n",
    "        # Check progress\n",
    "        if procedure == 1:\n",
    "            print(φ_mat_new, R_squared, diff, iter)\n",
    "        \n",
    "        # Updating\n",
    "        if diff < tol:\n",
    "            φ_mat_star = φ_mat_new\n",
    "            R_squared_star = R_squared\n",
    "            return φ_mat_star, R_squared_star\n",
    "        else:\n",
    "            φ_mat = update_weight*φ_mat_new + (1-update_weight)*φ_mat\n",
    "            \n",
    "    # Check convergence\n",
    "    if iter == max_iter-1:\n",
    "        print(\"Error: No convergence in φ_mat_iterator function\")"
   ]
  },
  {
   "cell_type": "code",
   "execution_count": 25,
   "id": "20fdf52d",
   "metadata": {},
   "outputs": [
    {
     "name": "stdout",
     "output_type": "stream",
     "text": [
      "[[ 0.07221296  0.7515215 ]\n",
      " [-0.08472005  0.88707995]] [0.99756345 0.99909395] 12.584720047911338 0\n",
      "[[ 0.07247429  0.75217495]\n",
      " [-0.08411775  0.88751012]] [0.99757887 0.99910165] 10.067173741927789 1\n",
      "[[ 0.07313954  0.75384036]\n",
      " [-0.08259321  0.88860042]] [0.99761794 0.99912121] 8.052214452298005 2\n",
      "[[ 0.07447632  0.75725103]\n",
      " [-0.07952347  0.89081942]] [0.99769623 0.99916086] 6.438701821585466 3\n",
      "[[ 0.07666341  0.76306601]\n",
      " [-0.0744222   0.8945818 ]] [0.9978283  0.99922756] 5.1458601833391775 4\n",
      "[[ 0.07965696  0.77169906]\n",
      " [-0.06716597  0.90000674]] [0.99802148 0.99931847] 4.109431925405556 5\n",
      "[[ 0.08312457  0.78322359]\n",
      " [-0.05810922  0.90665041]] [0.99826725 0.9994115 ] 3.27848878919279 6\n",
      "[[ 0.08656172  0.79705547]\n",
      " [-0.04809091  0.91467705]] [0.9985391  0.99952173] 2.612772713626305 7\n",
      "[[ 0.08937875  0.8124782 ]\n",
      " [-0.03799772  0.92321472]] [0.99881223 0.99962503] 2.0801249833956437 8\n",
      "[[ 0.09014707  0.83151484]\n",
      " [-0.02622564  0.93153877]] [0.99915209 0.999736  ] 1.6585555969533503 9\n",
      "[[ 0.08779634  0.85409702]\n",
      " [-0.01285396  0.93891597]] [0.99950078 0.9998332 ] 1.3291952041422583 10\n",
      "[[ 0.08464182  0.87340546]\n",
      " [-0.00328342  0.94583113]] [0.99969579 0.99989238] 1.066510687079948 11\n",
      "[[0.08111156 0.89457634]\n",
      " [0.00588179 0.95370476]] [0.99983669 0.99993652] 0.856738808666933 12\n",
      "[[0.07513758 0.91391981]\n",
      " [0.0125296  0.96090557]] [0.99991513 0.9999631 ] 0.6913650284099799 13\n",
      "[[0.06671192 0.93284021]\n",
      " [0.01695388 0.96824179]] [0.9999538  0.99997856] 0.5615176833678128 14\n",
      "[[0.05519258 0.95143883]\n",
      " [0.01847203 0.97608649]] [0.99996258 0.99998532] 0.46073348406735243 15\n",
      "[[0.0388527  0.97060358]\n",
      " [0.01577451 0.98517293]] [0.99993404 0.99998089] 0.384926665645463 16\n",
      "[[ 4.37285580e-03  9.97279947e-01]\n",
      " [-5.94740883e-04  1.00032331e+00]] [0.99890283 0.99965849] 0.3424211775669851 17\n",
      "[[0.13809093 0.91847973]\n",
      " [0.11008979 0.93584347]] [0.99976337 0.99988935] 0.14021886408295137 18\n",
      "[[0.10123022 0.94503328]\n",
      " [0.09098521 0.95180639]] [0.99997809 0.99999109] 0.14903580661367669 19\n",
      "[[0.09547012 0.951642  ]\n",
      " [0.08961816 0.95595366]] [0.99998845 0.9999941 ] 0.1249887448819719 20\n",
      "[[0.09191603 0.9563388 ]\n",
      " [0.09133401 0.95805958]] [0.99999609 0.99999744] 0.10354508094997134 21\n",
      "[[0.08713801 0.96083353]\n",
      " [0.08960966 0.96121271]] [0.99999825 0.99999881] 0.08761408972528974 22\n",
      "[[0.0833944  0.96405589]\n",
      " [0.08773565 0.96369256]] [0.999999   0.99999955] 0.07383487617520638 23\n",
      "[[0.08292416 0.96530015]\n",
      " [0.08785432 0.96474391]] [0.99999903 0.99999925] 0.059538141654027404 24\n",
      "[[0.08269688 0.96609222]\n",
      " [0.08832199 0.96529411]] [0.99999919 0.99999936] 0.04785779780434478 25\n",
      "[[0.0829366  0.96645316]\n",
      " [0.08915386 0.96545218]] [0.99999937 0.99999962] 0.03804651312134244 26\n",
      "[[0.08373282 0.96643128]\n",
      " [0.08987464 0.96548626]] [0.99999919 0.99999945] 0.02964099436359724 27\n",
      "[[0.08434817 0.96637181]\n",
      " [0.09082862 0.96531512]] [0.99999928 0.99999963] 0.023097443710833387 28\n",
      "[[0.08510137 0.96618923]\n",
      " [0.09173265 0.96509059]] [0.99999938 0.99999963] 0.017724761568054262 29\n",
      "[[0.08578485 0.96598891]\n",
      " [0.09242938 0.96489841]] [0.99999939 0.99999957] 0.01349632730616776 30\n",
      "[[0.08631804 0.9658194 ]\n",
      " [0.09295781 0.96474124]] [0.99999938 0.99999953] 0.010263873408406024 31\n",
      "[[0.08672961 0.96568055]\n",
      " [0.09336716 0.96461157]] [0.99999936 0.9999995 ] 0.007799521723476144 32\n",
      "[[0.08704532 0.96556923]\n",
      " [0.09368426 0.96450632]] [0.99999935 0.99999949] 0.005923912092219888 33\n",
      "[[0.08728384 0.96548231]\n",
      " [0.09392575 0.96442351]] [0.99999934 0.99999949] 0.00450060610637 34\n",
      "[[0.08746348 0.96541516]\n",
      " [0.0941076  0.96435968]] [0.99999933 0.99999948] 0.0034208450862174 35\n",
      "[[0.08759674 0.96536434]\n",
      " [0.09424259 0.96431151]] [0.99999933 0.99999948] 0.0026034179056492607 36\n",
      "[[0.08769414 0.96532657]\n",
      " [0.09434162 0.96427574]] [0.99999933 0.99999948] 0.0019853312907350956 37\n",
      "[[0.0877649  0.96529872]\n",
      " [0.09441378 0.96424946]] [0.99999933 0.99999948] 0.0015175049994494566 38\n",
      "[[0.08781607 0.96527832]\n",
      " [0.09446607 0.96423028]] [0.99999932 0.99999948] 0.0011628370510225056 39\n",
      "[[0.08785294 0.96526343]\n",
      " [0.09450383 0.96421638]] [0.99999932 0.99999948] 0.0008933980370010169 40\n",
      "[[0.08787944 0.9652526 ]\n",
      " [0.09453101 0.96420634]] [0.99999932 0.99999948] 0.0006882157119258575 41\n",
      "[[0.08789846 0.96524473]\n",
      " [0.09455053 0.96419912]] [0.99999932 0.99999948] 0.0005315607129442734 42\n",
      "[[0.08791207 0.96523903]\n",
      " [0.09456451 0.96419393]] [0.99999932 0.99999948] 0.0004116299879711599 43\n",
      "[[0.08792182 0.96523489]\n",
      " [0.09457452 0.96419022]] [0.99999932 0.99999948] 0.00031956085903785125 44\n",
      "[[0.08792878 0.9652319 ]\n",
      " [0.09458168 0.96418757]] [0.99999932 0.99999948] 0.0002486835963621814 45\n",
      "[[0.08793376 0.96522973]\n",
      " [0.09458679 0.96418568]] [0.99999932 0.99999948] 0.00019396947822429567 46\n",
      "[[0.08793732 0.96522815]\n",
      " [0.09459044 0.96418433]] [0.99999932 0.99999948] 0.00015161928145947245 47\n",
      "[[0.08793986 0.965227  ]\n",
      " [0.09459304 0.96418338]] [0.99999932 0.99999948] 0.00011875508759992548 48\n",
      "[[0.08794167 0.96522617]\n",
      " [0.09459489 0.96418269]] [0.99999932 0.99999948] 9.318925682327839e-05 49\n",
      "[[0.08794297 0.96522556]\n",
      " [0.09459621 0.96418221]] [0.99999932 0.99999948] 7.325395061966167e-05 50\n",
      "[[0.0879439  0.96522512]\n",
      " [0.09459715 0.96418187]] [0.99999932 0.99999948] 5.76754563250681e-05 51\n",
      "[[0.08794456 0.9652248 ]\n",
      " [0.09459782 0.96418162]] [0.99999932 0.99999948] 4.547666050494503e-05 52\n",
      "[[0.08794504 0.96522456]\n",
      " [0.0945983  0.96418145]] [0.99999932 0.99999948] 3.5906107341193705e-05 53\n",
      "[[0.08794538 0.96522439]\n",
      " [0.09459863 0.96418133]] [0.99999932 0.99999948] 2.838427740696481e-05 54\n",
      "[[0.08794562 0.96522426]\n",
      " [0.09459887 0.96418125]] [0.99999932 0.99999948] 2.2462998230915465e-05 55\n",
      "[[0.0879458  0.96522416]\n",
      " [0.09459904 0.96418118]] [0.99999932 0.99999948] 1.7794745359928088e-05 56\n",
      "[[0.08794592 0.96522409]\n",
      " [0.09459917 0.96418114]] [0.99999932 0.99999948] 1.410935254204937e-05 57\n",
      "[[0.08794601 0.96522404]\n",
      " [0.09459925 0.96418111]] [0.99999932 0.99999948] 1.1196285449127652e-05 58\n",
      "[[0.08794608 0.965224  ]\n",
      " [0.09459931 0.96418109]] [0.99999932 0.99999948] 8.891108154773786e-06 59\n",
      "[[0.08794613 0.96522397]\n",
      " [0.09459935 0.96418108]] [0.99999932 0.99999948] 7.0651173746105744e-06 60\n",
      "[[0.08794616 0.96522395]\n",
      " [0.09459938 0.96418107]] [0.99999932 0.99999948] 5.617380706909869e-06 61\n",
      "[[0.08794619 0.96522393]\n",
      " [0.09459941 0.96418106]] [0.99999932 0.99999948] 4.468600162621517e-06 62\n",
      "[[0.08794621 0.96522392]\n",
      " [0.09459942 0.96418106]] [0.99999932 0.99999948] 3.5563707511815368e-06 63\n",
      "[[0.08794622 0.96522391]\n",
      " [0.09459943 0.96418105]] [0.99999932 0.99999948] 2.8315066566142466e-06 64\n",
      "[[0.08794623 0.9652239 ]\n",
      " [0.09459944 0.96418105]] [0.99999932 0.99999948] 2.2551866896564077e-06 65\n",
      "[[0.08794624 0.9652239 ]\n",
      " [0.09459944 0.96418105]] [0.99999932 0.99999948] 1.7967313157146725e-06 66\n",
      "[[0.08794624 0.96522389]\n",
      " [0.09459945 0.96418105]] [0.99999932 0.99999948] 1.431867098930506e-06 67\n",
      "[[0.08794625 0.96522389]\n",
      " [0.09459945 0.96418105]] [0.99999932 0.99999948] 1.141369301002615e-06 68\n",
      "[[0.08794625 0.96522389]\n",
      " [0.09459945 0.96418105]] [0.99999932 0.99999948] 9.0999712079598e-07 69\n",
      "CPU times: user 3min 17s, sys: 1min 43s, total: 5min\n",
      "Wall time: 2min 46s\n"
     ]
    }
   ],
   "source": [
    "%%time\n",
    "\n",
    "# Initial guess\n",
    "φ_b0 = np.mean(Kgrid); φ_b1 = 0\n",
    "φ_g0 = np.mean(Kgrid); φ_g1 = 0\n",
    "φ_mat_0 = np.array(((φ_b0, φ_b1), (φ_g0, φ_g1)))\n",
    "\n",
    "# Solve\n",
    "φ_mat_star, R_squared_star = φ_mat_iterator(φ_mat_0, zgrid, zgridsize, Kgrid, Kgridsize, ϵgrid, ϵgridsize, kgrid, kgridsize, ugrid, Lgrid, l_tilde, z_series, T, T_0, Π, α, δ, tol, max_iter, update_weight, procedure=1)"
   ]
  },
  {
   "cell_type": "code",
   "execution_count": 26,
   "id": "c2f33b14",
   "metadata": {},
   "outputs": [
    {
     "data": {
      "text/plain": [
       "(array([[0.08794625, 0.96522389],\n",
       "        [0.09459945, 0.96418105]]),\n",
       " array([0.99999932, 0.99999948]))"
      ]
     },
     "execution_count": 26,
     "metadata": {},
     "output_type": "execute_result"
    }
   ],
   "source": [
    "φ_mat_star, R_squared_star"
   ]
  },
  {
   "cell_type": "code",
   "execution_count": null,
   "id": "2e720603",
   "metadata": {},
   "outputs": [],
   "source": []
  }
 ],
 "metadata": {
  "kernelspec": {
   "display_name": "Python 3 (ipykernel)",
   "language": "python",
   "name": "python3"
  },
  "language_info": {
   "codemirror_mode": {
    "name": "ipython",
    "version": 3
   },
   "file_extension": ".py",
   "mimetype": "text/x-python",
   "name": "python",
   "nbconvert_exporter": "python",
   "pygments_lexer": "ipython3",
   "version": "3.10.8"
  }
 },
 "nbformat": 4,
 "nbformat_minor": 5
}
