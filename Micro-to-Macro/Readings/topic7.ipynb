{
 "cells": [
  {
   "cell_type": "markdown",
   "id": "c0997f36",
   "metadata": {},
   "source": [
    "# Econ 281: Micro-to-Macro\n",
    "\n",
    "### Topic 7: HANK and TANK\n",
    "\n",
    "##### Youngdoo Choi (yoc005@ucsd.edu), May 2024\n",
    "\n",
    "---"
   ]
  },
  {
   "cell_type": "markdown",
   "id": "9bc35f4e",
   "metadata": {},
   "source": [
    "- **Research Question**\n",
    "\n",
    "Is GE-MPC smaller than micro MPC? If so, why?\n",
    "\n",
    "- **Note**\n",
    "\n",
    "Not exactly about this week's readings, but related: I revisit Orchard et al. (2023, henceforth ORW)'s research question.\n",
    "\n",
    "- **Hypothesis**\n",
    "\n",
    "There might not be the dampening GE force proposed in ORW (new vehicle expenditure by optimizing HHs is crowded out).\n",
    "\n",
    "- **Logic**\n",
    "\n",
    "1. Average tax rebate amount in 2008 was $1,000. Note that new vehicles are much more expensive than the rebate amount.\n",
    "\n",
    "2. Therefore hand-to-mouth households couldn't buy new vehicles (they can't afford even after the rebate). Households who bought new vehicles were optimizing agents with enough liquid assets. \n",
    "\n",
    "3. If we buy the above two assumptions, there couldn't rise in the relative price of vehicles due to hand-to-mouth households' rebate-induced demand.\n",
    "\n",
    "4. Hand-to-mouth households will spend non-durables (or cheap durables) and optimizing non-contraint households will buy new vehicles. The spending category is segmented by the groups, so there is no crowding out between groups.\n",
    "\n",
    "- **Plan**\n",
    "\n",
    "1. Confirm in the data who bought new vehicles in 2008. Were they poor HTM? wealthy HTM? or 'normal' people? I expect 'normal' people bought cars.\n",
    "\n",
    "2. The TANK model cannot generate (or rationalize) the crowding out channel mentioned in ORW. I will expand the model to HANK to feature the crowding out effects of vehicles 'within' non-HTM households.\n",
    "\n",
    "3. If a HANK model cannot explain the channel or counterfactual, I will look for another dampening force instead of durables. \n",
    "\n",
    "JH thoughts\n",
    "\n",
    "How about households using the tax rebate to finance down payments? Or about households using the tax rebate and their old care in a trade-in to get a newer car? Or even more generally, use the tax rebate + an old durable + a decrease in non-durable expenditures to finance a new car? Why do you want to have a HANK model as opposed to one TANK model as in ORW?"
   ]
  },
  {
   "cell_type": "markdown",
   "id": "17438cd8",
   "metadata": {},
   "source": []
  }
 ],
 "metadata": {
  "kernelspec": {
   "display_name": "Python 3 (ipykernel)",
   "language": "python",
   "name": "python3"
  },
  "language_info": {
   "codemirror_mode": {
    "name": "ipython",
    "version": 3
   },
   "file_extension": ".py",
   "mimetype": "text/x-python",
   "name": "python",
   "nbconvert_exporter": "python",
   "pygments_lexer": "ipython3",
   "version": "3.10.8"
  }
 },
 "nbformat": 4,
 "nbformat_minor": 5
}
