{
 "cells": [
  {
   "cell_type": "markdown",
   "id": "c0997f36",
   "metadata": {},
   "source": [
    "# Econ 281: Micro-to-Macro\n",
    "\n",
    "### Topic 7: HANK and TANK\n",
    "\n",
    "##### Youngdoo Choi (yoc005@ucsd.edu), May 2024\n",
    "\n",
    "---"
   ]
  },
  {
   "cell_type": "markdown",
   "id": "9bc35f4e",
   "metadata": {},
   "source": [
    "- **Research Question**\n",
    "\n",
    "Is GE-MPC smaller than micro MPC? If so, why?\n",
    "\n",
    "- **Note**\n",
    "\n",
    "Not exactly about this week's readings, but related: I revisit Orchard et al. (2023, henceforth ORW)'s research question.\n",
    "\n",
    "- **Hypothesis**\n",
    "\n",
    "There might not be the dampening GE force proposed in ORW (new vehicle expenditure by optimizing HHs is crowded out).\n",
    "\n",
    "- **Logic**\n",
    "\n",
    "1. Average tax rebate amount in 2008 was $1,000. Note that new vehicles are much more expensive than the rebate amount.\n",
    "\n",
    "2. Therefore hand-to-mouth households couldn't buy new vehicles (they can't afford even after the rebate). Households who bought new vehicles were optimizing agents with enough liquid assets. \n",
    "\n",
    "3. If the above two assumptions are true, there couldn't no rise in the relative price of vehicles due to hand-to-mouth households' rebate-induced demand.\n",
    "\n",
    "4. In their model, hand-to-mouth households will spend non-durables (or cheap durables) and optimizing agents will buy new vehicles. The spending category is segmented by the group, so there is no crowding out between groups.\n",
    "\n",
    "- **Plan**\n",
    "\n",
    "1. Confirm in the data who bought new vehicles in 2008. Were they poor HTM? wealthy HTM? or 'normal' people? I expect 'normal' people bought cars.\n",
    "\n",
    "2. To rationalize ORW's channel, the model should be expanded to HANK. There should be crowding out effects 'within' non-HTM households. TANK model can't consider heterogeneity within groups."
   ]
  },
  {
   "cell_type": "markdown",
   "id": "17438cd8",
   "metadata": {},
   "source": []
  }
 ],
 "metadata": {
  "kernelspec": {
   "display_name": "Python 3 (ipykernel)",
   "language": "python",
   "name": "python3"
  },
  "language_info": {
   "codemirror_mode": {
    "name": "ipython",
    "version": 3
   },
   "file_extension": ".py",
   "mimetype": "text/x-python",
   "name": "python",
   "nbconvert_exporter": "python",
   "pygments_lexer": "ipython3",
   "version": "3.10.8"
  }
 },
 "nbformat": 4,
 "nbformat_minor": 5
}
