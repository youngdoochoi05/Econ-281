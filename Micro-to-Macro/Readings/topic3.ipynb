{
 "cells": [
  {
   "cell_type": "markdown",
   "id": "c0997f36",
   "metadata": {},
   "source": [
    "# Econ 281: Micro-to-Macro\n",
    "\n",
    "### Topic 3: Regional Aggregation 2\n",
    "\n",
    "##### Youngdoo Choi (yoc005@ucsd.edu), April 2024"
   ]
  },
  {
   "cell_type": "markdown",
   "id": "cf0ac0cc",
   "metadata": {},
   "source": [
    "--- \n",
    "\n",
    "#### Hausman et al. (2019, AER), \"Recovery from the Great Depression: The Farm Channel in Spring 1933\"\n",
    "\n",
    "1. **Research Question**\n",
    "\n",
    "Where did the recovery come from?\n",
    "\n",
    "2. **Answer**\n",
    "\n",
    "dollar devaluation -> tradable crops price increase -> farmers' income, consumption increase: recovery force (the farm channel)\n",
    "\n",
    "3. **How to show**\n",
    "\n",
    "- Estimate the farm channel using regional variation and the exposure instrument\n",
    "- Show the regional estimate can be extraploated to the aggregate effect\n",
    "\n",
    "4. **Importance**\n",
    "\n",
    "- Suggest another distributional impact of monetary policy\n",
    "- Link micro to macro"
   ]
  },
  {
   "cell_type": "markdown",
   "id": "32be5ec8",
   "metadata": {},
   "source": [
    "---\n",
    "\n",
    "### Questions & Potential Ideas\n",
    "\n",
    "1. Why don't we check the channel using manufacture/service instead of farm/non-farm sectors?\n",
    "\n",
    "- The point is distributional effects between tradable/non-tradable sectors, not the farm/non-farm itself\n",
    "\n",
    "- If tradable good's prices were set by the world price, we should observe similar results when using manufacture/service sectors\n",
    "\n",
    "- farm = tradable (= manufacture) & non-farm = non-tradable (= service)\n",
    "\n",
    "- If we observe same results, then it should be 'tradable channel' rather than 'farm channel'?\n",
    "\n",
    "# JW:\n",
    "- agreed that the channel is broader, but the only goods internationally traded from the US were commodities: raw materials and farm products."
   ]
  },
  {
   "cell_type": "markdown",
   "id": "80b3f14c",
   "metadata": {},
   "source": [
    "--- \n",
    "\n",
    "#### Mondragon and Wieland (2022, WP), \"Housing Demand and Remote Work\"\n",
    "\n",
    "1. **Research Question**\n",
    "\n",
    "What explains housing prices increase after COVID?\n",
    "\n",
    "2. **Answer**\n",
    "\n",
    "Housing demand due to increased remote working\n",
    "\n",
    "3. **How to show**\n",
    "\n",
    "Similar with the above paper, but here it fully specifies the GE model for aggregation\n",
    "\n",
    "4. **Importance**\n",
    "\n",
    "Suggest macroeconomic effects of remote work"
   ]
  },
  {
   "cell_type": "markdown",
   "id": "14916f37",
   "metadata": {},
   "source": [
    "---\n",
    "\n",
    "### Questions & Potential Ideas\n",
    "\n",
    "1. What if WFH-friendly regions had smaller housing supply elasticity?\n",
    "\n",
    "- the exposure might be correlated with the shock\n",
    "\n",
    "- Is this possbility ruled out by checking the pre-trends?\n",
    "\n",
    "# JW comments:\n",
    "the paper has something to say about housing supply. did you find it? did you find it convincing?"
   ]
  },
  {
   "cell_type": "markdown",
   "metadata": {},
   "source": []
  }
 ],
 "metadata": {
  "kernelspec": {
   "display_name": "Python 3 (ipykernel)",
   "language": "python",
   "name": "python3"
  },
  "language_info": {
   "codemirror_mode": {
    "name": "ipython",
    "version": 3
   },
   "file_extension": ".py",
   "mimetype": "text/x-python",
   "name": "python",
   "nbconvert_exporter": "python",
   "pygments_lexer": "ipython3",
   "version": "3.10.8"
  }
 },
 "nbformat": 4,
 "nbformat_minor": 5
}
