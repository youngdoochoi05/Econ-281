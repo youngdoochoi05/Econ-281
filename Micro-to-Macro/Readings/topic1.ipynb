{
 "cells": [
  {
   "cell_type": "markdown",
   "id": "c0997f36",
   "metadata": {},
   "source": [
    "# Econ 281: Micro-to-Macro\n",
    "\n",
    "### Topic 1: Identification with Regional Data\n",
    "\n",
    "##### Youngdoo Choi (yoc005@ucsd.edu), April 2024"
   ]
  },
  {
   "cell_type": "markdown",
   "id": "cf0ac0cc",
   "metadata": {},
   "source": [
    "--- \n",
    "\n",
    "#### Nakamura and Steinsson (2014, AER), \"Fiscal Stimulus in a Monetary Union: Evidence from US Regions\"\n",
    "\n",
    "1. **Research Question**\n",
    "\n",
    "What is the effect of government spending on output?\n",
    "\n",
    "2. **Conclusion**\n",
    "\n",
    "The relative multipliers is 1.5, which favors the NK models regarding the aggregate multiplier.\n",
    "\n",
    "3. **How to show**\n",
    "\n",
    "1] Estimate using regional variation of military procurement, and the Bartik instrument. \\\n",
    "2] Use the estimates to discipline models, being informative about the aggregate multiplier.\n",
    "\n",
    "4. **Importance**\n",
    "\n",
    "1] Estimated a cross-sectional estimate plausibly \\\n",
    "2] Linked the cross-sectional evidence to macro implications"
   ]
  },
  {
   "cell_type": "markdown",
   "id": "32be5ec8",
   "metadata": {},
   "source": [
    "---\n",
    "\n",
    "### Questions & Potential Ideas\n",
    "\n",
    "1. Does estimating the relative multiplier solve the external validity problem?\n",
    "\n",
    "Even if we get a credible estimate from the military procurement, there is still an external validity problem. Can we do a shift-share using more prevalent government spending measure? What if we use a transfer as the spending, and how much hand-to-mouth people are in each region as an exposure?\n",
    "\n",
    "2. Is the cross-sectional estimate good enough to discipline models?\n",
    "\n",
    "The estimate is successful in ruling out some family of models, but is it enough to tell which NK model should be used? What if NK models with aggregate demand shocks potential yields different implications about the multiplier?"
   ]
  },
  {
   "cell_type": "markdown",
   "id": "80b3f14c",
   "metadata": {},
   "source": [
    "--- \n",
    "\n",
    "#### Mian et al. (2013, QJE), \"Household Balance Sheets, Consumption, and the Economic Slump\"\n",
    "\n",
    "1. **Research Question**\n",
    "\n",
    "What is the effect of household wealth on consumption?\n",
    "\n",
    "2. **Conclusion**\n",
    "\n",
    "The elasticity is 0.6 to 0.8, and the MPC are heterogenous across characteristics.\n",
    "\n",
    "3. **How to show**\n",
    "\n",
    "Estimate using regional variation of wealth shocks, where the housing elasticity plays a role as the instrument.\n",
    "\n",
    "4. **Importance**\n",
    "\n",
    "Identify the important causal estimate, using the regional variation and smart IV."
   ]
  },
  {
   "cell_type": "markdown",
   "id": "75dbcf98",
   "metadata": {},
   "source": [
    "---\n",
    "\n",
    "### Questions & Potential Ideas\n",
    "\n",
    "1. Is the housing supply elasticity a valid instrument?\n",
    "\n",
    "When demand for the housing is high, the elasticity could be a good instrument. However, when the demand is low, how does it make sense? In this case if existing houses cover all the demand (so new construction is not happening), whether the elasticity is high or low might not explain the housing wealth (weak first stage)."
   ]
  },
  {
   "cell_type": "markdown",
   "metadata": {},
   "source": [
    "# JW comments:\n",
    "1. Your ideas on NS should be more specific. Why do you think general government spending may have different effects from military spending? (Not unreasonable, but you should have a conjecture.) And what might make it difficult to use general government spending in a Bartik?\n",
    "2. Your idea on housing supply is interesting. But is it a problem for Mian-Sufi? "
   ]
  }
 ],
 "metadata": {
  "kernelspec": {
   "display_name": "Python 3 (ipykernel)",
   "language": "python",
   "name": "python3"
  },
  "language_info": {
   "codemirror_mode": {
    "name": "ipython",
    "version": 3
   },
   "file_extension": ".py",
   "mimetype": "text/x-python",
   "name": "python",
   "nbconvert_exporter": "python",
   "pygments_lexer": "ipython3",
   "version": "3.10.8"
  }
 },
 "nbformat": 4,
 "nbformat_minor": 5
}
