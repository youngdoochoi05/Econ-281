{
 "cells": [
  {
   "cell_type": "markdown",
   "id": "c0997f36",
   "metadata": {},
   "source": [
    "# Econ 281: Micro-to-Macro\n",
    "\n",
    "### Topic 2: Regional Aggregation 1\n",
    "\n",
    "##### Youngdoo Choi (yoc005@ucsd.edu), April 2024"
   ]
  },
  {
   "cell_type": "markdown",
   "id": "cf0ac0cc",
   "metadata": {},
   "source": [
    "--- \n",
    "\n",
    "#### Hazell et al. (2022, QJE), \"The Slope of the Phillips Curve: Evidence from U.S. States\"\n",
    "\n",
    "1. **Research Question**\n",
    "\n",
    "What is the slope of the Phillips curve?\n",
    "\n",
    "2. **Answer**\n",
    "\n",
    "It was already modest since the 1980s. Therefore Volcker disinflation & Missing disinflation is explained by inflation expectations.\n",
    "\n",
    "3. **How to show**\n",
    "\n",
    "- Estimate regional non-tradable Phillips curve using instruments. \n",
    "- Show the regional estimate is equal to the aggregate estimate.\n",
    "\n",
    "4. **Importance**\n",
    "\n",
    "- Estimated a cross-sectional estimate plausibly. \n",
    "- Linked the cross-sectional evidence to macro implications."
   ]
  },
  {
   "cell_type": "markdown",
   "id": "32be5ec8",
   "metadata": {},
   "source": [
    "---\n",
    "\n",
    "### Questions & Potential Ideas\n",
    "\n",
    "1. Why should the level of disaggregated geography be states?\n",
    "\n",
    "When showing that the slope of the regional Phillips curve equals to the aggregate in the model, it doesn't seem that the region unit should be states. What if we had used (let's say) county-level variation to get the regional estimate? If the estimate are different but the model cannot tell which one to use, the mapping from estimates to the model might not be plasible. Perhaps the model should be modified to accomodate the specific 'state' variations.\n",
    "\n",
    "2. Plausibility of the instruments (question in class)\n",
    "\n",
    "- For the lagged instrument, why are we comparing responses between different states? Is eta (expectation error) still a supply shock today? Why yesterday's Texas' unemployment is uncorrelated with today's Texas' supply shock? \n",
    "- For the shift-share instrument, are we taking a sum over all the industries or only tradable industries? How the shock is uncorrelated with one of the shift or shares?"
   ]
  },
  {
   "cell_type": "markdown",
   "id": "80b3f14c",
   "metadata": {},
   "source": [
    "--- \n",
    "\n",
    "#### Wolf (2023, AER), \"The Missing Intercept: A Demand Equivalence Approach\"\n",
    "\n",
    "**Missing Intercept Problem Summary (Ben Moll's note)**\n",
    "\n",
    "In a cross-sectional regression, we estimate\n",
    "\n",
    "\\begin{equation*}\n",
    "y_{it} = \\alpha + \\beta x_{it} + \\gamma X_t + \\epsilon_{it}\n",
    "\\end{equation*}\n",
    "\n",
    "Here we get $\\beta$, and $X_t$ term is cancelled out by time fixed effects. But the true aggregation relation is\n",
    "\n",
    "\\begin{equation*}\n",
    "Y_t = \\alpha + (\\beta + \\gamma) X_t\n",
    "\\end{equation*}\n",
    "\n",
    "The 'intercept' $\\gamma$ is missing. To map the cross-sectional estimate to aggregate, usually we need a model (Nakamura and Steinsson 2014). Wolf (2023) proposes conditions under which the missing intercept is close to zero."
   ]
  },
  {
   "cell_type": "markdown",
   "id": "14916f37",
   "metadata": {},
   "source": [
    "---\n",
    "\n",
    "### Questions & Potential Ideas\n",
    "\n",
    "1. If we use more disaggregated cross-sectional variation, would it help?\n",
    "\n",
    "It seems the main approach in this literature is using variations across regions and shift-share instrument. But can we also use 'lower' level variations like household/firm level? I wonder if using more disaggregated variation would be more powerful to discipline models or not. One paper we know is Chodorow-Reich (2014), where he ran a firm-level regression. "
   ]
  },
  {
   "cell_type": "markdown",
   "id": "14916f37",
   "metadata": {},
   "source": [
    "---\n",
    "\n",
    "### JH Comments\n",
    "\n",
    "1. On idea 1. Please be more specific on why you think states is not the right variation. It is not obvious to me that the estimates at different levels of aggregation should be the same. The extent of spillovers between states and municipalities in the same commuting zone (CZ) are very different. For example, the model in HHNS says there is no mobility of labor across regions, but in a CZ there is mobility of labor at very high rates. The assumptions of the model should be consistent with the level of greographical variation. Can you elaborate more on what you had in mind? \n",
    "\n",
    " Wrt Chodorow-Reich and Wolf. My sense is that the data you use should reflect the economic mechanism you have in mind. For next week, try to develop your ideas more fully. What would the research question be? Today's ideas seemed vague and you would benefit from verbalizing more what you would like to do. "
   ]
  }
 ],
 "metadata": {
  "kernelspec": {
   "display_name": "Python 3 (ipykernel)",
   "language": "python",
   "name": "python3"
  },
  "language_info": {
   "codemirror_mode": {
    "name": "ipython",
    "version": 3
   },
   "file_extension": ".py",
   "mimetype": "text/x-python",
   "name": "python",
   "nbconvert_exporter": "python",
   "pygments_lexer": "ipython3",
   "version": "3.10.8"
  }
 },
 "nbformat": 4,
 "nbformat_minor": 5
}
