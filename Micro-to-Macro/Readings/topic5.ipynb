{
 "cells": [
  {
   "cell_type": "markdown",
   "id": "c0997f36",
   "metadata": {},
   "source": [
    "# Econ 281: Micro-to-Macro\n",
    "\n",
    "### Topic 5: Household and Firm Aggregation\n",
    "\n",
    "##### Youngdoo Choi (yoc005@ucsd.edu), May 2024"
   ]
  },
  {
   "cell_type": "markdown",
   "id": "cf0ac0cc",
   "metadata": {},
   "source": [
    "--- \n",
    "\n",
    "#### Huber (2023), \"Estimating General Equilibrium Spillovers of Large-Scale Shocks\"\n",
    "\n",
    "- **Main Message**\n",
    "\n",
    "Exogeneous treatment + leave-out-mean -> can estimate GE without a model.\n",
    "\n",
    "- **Questions/Answers**\n",
    "\n",
    "1. What are advantages over the model-based approach?\n",
    "\n",
    "If we have the exogeneous variation, it's easier to quantify GE.\n",
    "\n",
    "2. What are limitations of this approach?\n",
    "\n",
    "Still we need to decide which channel to include. This requires an economic theory as same with the model-based approach. \n",
    "\n",
    "3. Can we evaluate results from model-approach by this approach?\n",
    "\n",
    "Yes. If both model- or reduced-approach assumes same potential dampening/strengthening GE channel, we should expect similar GE results (if not model is wrong). I could evaluate Nakamura and Steinsson (2014) or Herreño (2023).\n",
    "\n",
    "4. Is there any other way to estimate GE?\n",
    "\n",
    "Yes. Run a same regression for different level of group/region (let's say county and state). The difference between two estimates will represent a GE across county but within state."
   ]
  },
  {
   "cell_type": "markdown",
   "id": "4a7165cb",
   "metadata": {},
   "source": []
  }
 ],
 "metadata": {
  "kernelspec": {
   "display_name": "Python 3 (ipykernel)",
   "language": "python",
   "name": "python3"
  },
  "language_info": {
   "codemirror_mode": {
    "name": "ipython",
    "version": 3
   },
   "file_extension": ".py",
   "mimetype": "text/x-python",
   "name": "python",
   "nbconvert_exporter": "python",
   "pygments_lexer": "ipython3",
   "version": "3.10.8"
  }
 },
 "nbformat": 4,
 "nbformat_minor": 5
}
